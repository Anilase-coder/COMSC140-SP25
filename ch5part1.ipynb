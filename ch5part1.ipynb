{
  "cells": [
    {
      "cell_type": "markdown",
      "metadata": {
        "id": "view-in-github",
        "colab_type": "text"
      },
      "source": [
        "<a href=\"https://colab.research.google.com/github/Anilase-coder/COMSC140-SP25/blob/main/ch5part1.ipynb\" target=\"_parent\"><img src=\"https://colab.research.google.com/assets/colab-badge.svg\" alt=\"Open In Colab\"/></a>"
      ]
    },
    {
      "cell_type": "markdown",
      "metadata": {
        "id": "0dsISlFX89f_"
      },
      "source": [
        "<style>\n",
        "\th1 {\n",
        "\t--\tbackground-color: grey;\n",
        "\t\tcolor: yellow\n",
        "\t\tborder: 3px solid grey\n",
        "\n",
        "\t}\n",
        "\tp {\n",
        "\t\tbackground-color: grey;\n",
        "\t\tcolor: white\n",
        "\t\tborder: 3px solid grey\n",
        "\n",
        "\t}\n",
        "</style>\n",
        "<h1> Chapter 5 Functions: Part 1</h1>"
      ]
    },
    {
      "cell_type": "markdown",
      "metadata": {
        "id": "ou0-fbOu89gA"
      },
      "source": [
        "<p style=\"margin-left:40px\">1. 5.1 Introduction to Functions</p>\n",
        "\n",
        "<p style=\"margin-left:40px\">2. 5.2 Defining and Calling a Void Function</p>\n",
        "\n",
        "<p style=\"margin-left:40px\">3. 5.3 Designing a Program to Use Functions</p>\n",
        "\n",
        "<p style=\"margin-left:40px\">4. 5.4 <mark> Local Variables </mark></p>\n",
        "\n",
        "<p style=\"margin-left:40px\">5. 5.5 <mark> Passing Arguments to Functions </mark></p>\n",
        "\n",
        "<p style=\"margin-left:40px\">6. 5.6 Global Variables and Global Constants</p>\n",
        "\n",
        "<p style=\"margin-left:40px\">7. 5.7 Introduction to <mark>Value-Returning Functions </mark>: Generating Random Numbers</p>\n",
        "\n",
        "<p style=\"margin-left:40px\">8. 5.8 Writing Your Own Value-Returning Functions</p>\n",
        "\n",
        "<p style=\"margin-left:40px\">9. 5.9 The math Module</p>\n",
        "\n",
        "<p style=\"margin-left:40px\">10. 5.10 <mark> Storing Functions in Modules <mark> </p>\n",
        "\n",
        "<p style=\"margin-left:40px\">11. 5.11 Turtle Graphics: Modularizing Code with Functions</p>\n"
      ]
    },
    {
      "cell_type": "markdown",
      "metadata": {
        "id": "CJKj_bDC89gA"
      },
      "source": [
        "***\n",
        "\n",
        "## <p style=\"background-color: grey; color: white \"> ◼️  functions </p>\n",
        "# <p style=\"font-family: Arial; font-size:1.4em;color:red;\"> 1. Basic Examples of Functions</p>\n"
      ]
    },
    {
      "cell_type": "markdown",
      "metadata": {
        "id": "gZC1M98B89gB"
      },
      "source": [
        "<style>\n",
        "\th3{\n",
        "\t\tbackground-color: grey\n",
        "\t\tcolor: white\n",
        "\t}\n",
        "</style>\n",
        "\n",
        "<h3> First example of function </h3>\n",
        "\n",
        "- Run all the following code cells and check out the result of code segments"
      ]
    },
    {
      "cell_type": "markdown",
      "metadata": {
        "id": "TrbuQmqo89gB"
      },
      "source": [
        "#### <p style=\"font-family: Arial; font-size:1.4em; background-color: yellow; color:black;\"> Problem #1.0 </p>\n",
        "\n",
        "#### Run all the cells and figure out the basic usage of while loop structure"
      ]
    },
    {
      "cell_type": "code",
      "execution_count": 1,
      "metadata": {
        "id": "M5F2z7Zl89gB"
      },
      "outputs": [],
      "source": [
        "def fn():\n",
        "\treturn\n",
        "\n",
        "if __name__ == '__main__':\n",
        "\tfn( )\n",
        "\n"
      ]
    },
    {
      "cell_type": "code",
      "execution_count": 2,
      "metadata": {
        "colab": {
          "base_uri": "https://localhost:8080/"
        },
        "id": "AGq2EMBm89gC",
        "outputId": "58284e44-2533-41c3-d59e-d96be488f4b1"
      },
      "outputs": [
        {
          "name": "stdout",
          "output_type": "stream",
          "text": [
            "2\n"
          ]
        }
      ],
      "source": [
        "# Function to return 0 or 1\n",
        "# if the number is even, return 0, otherwise 1\n",
        "#  checknum ( )\n",
        "\n",
        "def checknum(n):\n",
        "\tif n%2 == 0:\n",
        "\t\treturn 0\n",
        "\telse:\n",
        "\t\treturn 1\n",
        "\n",
        "userinput = int(input())\n",
        "retval = checknum(userinput)\n",
        "\n",
        "\n"
      ]
    },
    {
      "cell_type": "code",
      "execution_count": 3,
      "metadata": {
        "colab": {
          "base_uri": "https://localhost:8080/"
        },
        "id": "MJ5c__m189gC",
        "outputId": "341c0a5b-2543-48f1-96eb-9893fc0cc797"
      },
      "outputs": [
        {
          "output_type": "stream",
          "name": "stdout",
          "text": [
            "[1, 2, 3, 4, 5, 6, 7]\n",
            "[1, 2, 3, 4, 5, 6, 7]\n",
            "[1, 2, 3, 4, 5, 6, 7]\n",
            "[1, 2, 3, 4, 5, 6, 7]\n"
          ]
        }
      ],
      "source": [
        "def printlst(l):\n",
        "\taverage = sum(l) / len(l)\n",
        "\tfor v in l:\n",
        "\t\tif ( average > v):\n",
        "\t\t\tprint(l)\n",
        "\n",
        "lst = [1,2,3,4,5,6,7]\n",
        "printlst(lst) # print all numbers less than avg\n",
        "print (lst)\n"
      ]
    },
    {
      "cell_type": "code",
      "execution_count": 4,
      "metadata": {
        "colab": {
          "base_uri": "https://localhost:8080/"
        },
        "id": "mmP29Jrh89gC",
        "outputId": "2763efe4-640b-4713-c451-550fa99f575a"
      },
      "outputs": [
        {
          "output_type": "stream",
          "name": "stdout",
          "text": [
            "3\n",
            "3\n"
          ]
        }
      ],
      "source": [
        "\n",
        "def \tgetinput():\n",
        "\tval = int(input())\n",
        "\treturn val\n",
        "\n",
        "userval = getinput()\n",
        "print (userval)\n",
        "\n",
        "\n"
      ]
    },
    {
      "cell_type": "markdown",
      "metadata": {
        "id": "qUkb0PDu89gD"
      },
      "source": [
        "### How are the functions called?  \n",
        "#### Compare the below two code segments"
      ]
    },
    {
      "cell_type": "code",
      "execution_count": 5,
      "metadata": {
        "colab": {
          "base_uri": "https://localhost:8080/"
        },
        "id": "uco_QOYw89gD",
        "outputId": "c7d21322-af0f-416e-a05a-149b63f8e6f3"
      },
      "outputs": [
        {
          "output_type": "stream",
          "name": "stdout",
          "text": [
            "1\n",
            "1\n"
          ]
        }
      ],
      "source": [
        "def \tgetinput():\n",
        "\tval = int(input())\n",
        "\treturn val\n",
        "\n",
        "def \tmain():\n",
        "\tuserval = getinput()\n",
        "\tprint (userval)\n",
        "\n",
        "\n",
        "if __name__ == '__main__':\n",
        "\tmain()\n",
        "\n"
      ]
    },
    {
      "cell_type": "code",
      "execution_count": 7,
      "metadata": {
        "colab": {
          "base_uri": "https://localhost:8080/"
        },
        "id": "o7l1N_MW89gD",
        "outputId": "b4a3466e-b102-4874-f8f6-57eb429258b9"
      },
      "outputs": [
        {
          "output_type": "stream",
          "name": "stdout",
          "text": [
            "1\n",
            "1\n"
          ]
        }
      ],
      "source": [
        "def \tgetinput():\n",
        "\tval = int(input())\n",
        "\treturn val\n",
        "\n",
        "def \tmain():\n",
        "\tuserval = getinput()\n",
        "\tprint (userval)\n",
        "\n",
        "main()"
      ]
    },
    {
      "cell_type": "markdown",
      "metadata": {
        "id": "w1OjgivJ89gE"
      },
      "source": [
        "#### <p style=\"font-family: Arial; font-size:1.4em; background-color: yellow; color:black;\"> Problem #1.1 </p>\n",
        "\n",
        "####  Edit the above code cell to run main() function\n",
        "\n",
        "```\n",
        "def \tgetinput():\n",
        "\tval = int(input())\n",
        "\treturn val\n",
        "\n",
        "def \tmain():\n",
        "\tuserval = getinput()\n",
        "\tprint (userval)\n",
        "```"
      ]
    },
    {
      "cell_type": "code",
      "execution_count": 8,
      "metadata": {
        "colab": {
          "base_uri": "https://localhost:8080/"
        },
        "id": "jtDaYmvc89gE",
        "outputId": "3862363f-383d-43c2-bd10-ff2aae53dbff"
      },
      "outputs": [
        {
          "output_type": "stream",
          "name": "stdout",
          "text": [
            "2\n",
            "2\n"
          ]
        }
      ],
      "source": [
        "# complete the code to run the main function\n",
        "def \tgetinput():\n",
        "\tval = int(input())\n",
        "\treturn val\n",
        "\n",
        "def \tmain():\n",
        "\tuserval = getinput()\n",
        "\tprint (userval)\n",
        "\n",
        "main()"
      ]
    },
    {
      "cell_type": "markdown",
      "metadata": {
        "id": "ncsU6FV389gE"
      },
      "source": [
        "#### <p style=\"font-family: Arial; font-size:1.4em; background-color: yellow; color:black;\"> Problem #1.2 </p>\n",
        "\n",
        "####  Check out this code. This code is working without main() function.\n",
        "#### Explain how this code is working properly without main() function\n",
        "\n",
        "```\n",
        "def \tgetinput():\n",
        "\tval = int(input())\n",
        "\treturn val\n",
        "\n",
        "userval = getinput()\n",
        "print (userval)\n",
        "```\n",
        "This works without main() because the function getinput() is being called directly outside of any function: </p>\n",
        "* When Python reaches the line userval = getinput(), it immediately calls the function and waits for your input\n",
        "* main() is not required unless you want to organize your program into sections\n"
      ]
    },
    {
      "cell_type": "code",
      "execution_count": 9,
      "metadata": {
        "colab": {
          "base_uri": "https://localhost:8080/"
        },
        "id": "YDpJJ1_V89gE",
        "outputId": "0fb19b0d-774d-4ceb-fc83-d5d86e42189b"
      },
      "outputs": [
        {
          "output_type": "stream",
          "name": "stdout",
          "text": [
            "2\n",
            "2\n"
          ]
        }
      ],
      "source": [
        "def \tgetinput():\n",
        "\tval = int(input())\n",
        "\treturn val\n",
        "\n",
        "userval = getinput()\n",
        "print (userval)\n"
      ]
    },
    {
      "cell_type": "markdown",
      "metadata": {
        "id": "MyUo_6JA89gE"
      },
      "source": [
        "## Don't forget to <font color='red'> **\"commit\"** </font> your work or <font color='red'> **\"save\"** </font> in Google Colab\n",
        "## before moving to the next section."
      ]
    },
    {
      "cell_type": "markdown",
      "metadata": {
        "id": "G7-2ui2z89gE"
      },
      "source": [
        "***\n",
        "\n",
        "## <p style=\"background-color: grey; color: white \"> ◼️  Local Variables </p>\n",
        "# <p style=\"font-family: Arial; font-size:1.4em;color:red;\"> 2. Local Variables </p>\n"
      ]
    },
    {
      "cell_type": "markdown",
      "metadata": {
        "id": "Llt-zhdN89gF"
      },
      "source": [
        "### Check out the variable \"userval\" after the function call \"getinput()\""
      ]
    },
    {
      "cell_type": "code",
      "execution_count": 10,
      "metadata": {
        "colab": {
          "base_uri": "https://localhost:8080/"
        },
        "id": "6g7Ch0w689gF",
        "outputId": "2a435716-7c0b-4a58-b6a8-7df47473cde6"
      },
      "outputs": [
        {
          "output_type": "stream",
          "name": "stdout",
          "text": [
            "1\n",
            "1\n"
          ]
        }
      ],
      "source": [
        "def \tgetinput():\n",
        "\tval = int(input())\n",
        "\treturn val\n",
        "\n",
        "def \tmain():\n",
        "\tuserval = getinput()\n",
        "\tprint (userval)\n",
        "\t# print (val)\n",
        "\n",
        "if __name__ == '__main__':\n",
        "\tmain()\n",
        "\n"
      ]
    },
    {
      "cell_type": "code",
      "execution_count": 11,
      "metadata": {
        "colab": {
          "base_uri": "https://localhost:8080/"
        },
        "id": "Z518ErQL89gF",
        "outputId": "c121e39c-e770-4aa7-cf73-4b8f511dcfe6"
      },
      "outputs": [
        {
          "output_type": "stream",
          "name": "stdout",
          "text": [
            "30\n"
          ]
        }
      ],
      "source": [
        "def getsum(n1, n2):\n",
        "\tval = n1 + n2\n",
        "\treturn val\n",
        "\n",
        "def main():\n",
        "\ta = 10; b = 20\n",
        "\tuserval = getsum(a, b)\n",
        "\tprint (userval)\n",
        "\n",
        "if __name__ == '__main__':\n",
        "\tmain()\n"
      ]
    },
    {
      "cell_type": "markdown",
      "metadata": {
        "id": "XXTYdwxj89gF"
      },
      "source": [
        "<style>\n",
        "\tp {\n",
        "\t\tbackground-color: grey;\n",
        "\t\tcolor: white;\n",
        "\t\tborder: 3px solid grey\n",
        "\n",
        "\t}\n",
        "</style>\n",
        "\n",
        "<p> Making Changes to Parameters </p>\n"
      ]
    },
    {
      "cell_type": "markdown",
      "metadata": {
        "id": "i7NF8tzW89gF"
      },
      "source": [
        "#### <p style=\"font-family: Arial; font-size:1.4em; background-color: yellow; color:black;\"> Problem #2.1 </p>\n",
        "\n",
        "####  Check out this code. After the function call \"getinput()\" at the line 8 in the main function,  \n",
        "#### show the  values \"a\" and \"b\"\n"
      ]
    },
    {
      "cell_type": "code",
      "execution_count": 14,
      "metadata": {
        "colab": {
          "base_uri": "https://localhost:8080/"
        },
        "id": "jjDn4x2289gF",
        "outputId": "89c55216-f9ca-48b2-c15e-abd02041215b"
      },
      "outputs": [
        {
          "output_type": "stream",
          "name": "stdout",
          "text": [
            "12\n",
            "22\n",
            "The value of parameter n1 and n2 are 12 and 22\n",
            "The value of a and b are 0 and 0\n"
          ]
        }
      ],
      "source": [
        "\n",
        "def getinput(n1, n2):\n",
        "\tn1 = input()\n",
        "\tn2 = input()\n",
        "\tprint (\"The value of parameter n1 and n2 are {0} and {1}\".format(n1, n2))\n",
        "\n",
        "def main():\n",
        "\ta = 0; b = 0\n",
        "\tgetinput(a, b)\n",
        "\tprint (\"The value of a and b are {0} and {1}\".format(a, b))\n",
        "\n",
        "if __name__ == '__main__':\n",
        "\tmain()\n"
      ]
    },
    {
      "cell_type": "markdown",
      "metadata": {
        "id": "UXROZ-Gt89gG"
      },
      "source": [
        "### <mark> Explain why both values are 0 </mark>\n",
        "\n",
        "- In python, integers are immutable\n",
        "- When a and b are passed into getinput(a, b), the function works on copies of those values, not the originals\n",
        "- The changes inside getinput() (adding 1) do not affect the original a and b values outside the function\n",
        "- This is known as pass-by-value for immutable types (like integers, floats, strings, etc.)"
      ]
    },
    {
      "cell_type": "markdown",
      "metadata": {
        "id": "WiR9TU6589gG"
      },
      "source": [
        "---\n",
        "#### <p style=\"font-family: Arial; font-size:1.4em; background-color: yellow; color:black;\"> Problem #2.2 </p>\n",
        "\n",
        "####  Check out this code. After the function call \"getinput()\" in the main function,  \n",
        "#### show the  values \"list1\". Explain the result.\n",
        "### In problem 2.1, there were no changes even though the values were altered in the function getinput().\n",
        "### In this code, when you assign the values to the list \"l1\", these changes affect to the main function.\n"
      ]
    },
    {
      "cell_type": "markdown",
      "metadata": {
        "id": "ktIV092N89gG"
      },
      "source": [
        "<style>\n",
        "\tp {\n",
        "\t\tbackground-color: grey;\n",
        "\t\tcolor: white;\n",
        "\t\tborder: 3px solid grey\n",
        "\n",
        "\t}\n",
        "</style>\n",
        "\n",
        "<p> Making Changes to Parameters 2 </p>\n"
      ]
    },
    {
      "cell_type": "code",
      "execution_count": 15,
      "metadata": {
        "colab": {
          "base_uri": "https://localhost:8080/"
        },
        "id": "xOxBqD-V89gG",
        "outputId": "0a786afd-3a1b-4a8b-fe82-12011f1d5c69"
      },
      "outputs": [
        {
          "output_type": "stream",
          "name": "stdout",
          "text": [
            "100\n",
            "200\n",
            "3\n",
            "The value of parameter l1  ['100', '200', '3']\n",
            "The value of list1 ['100', '200', '3']\n"
          ]
        }
      ],
      "source": [
        "\n",
        "def getinput(l1):\n",
        "\tl1.append(input())\n",
        "\tl1.append(input())\n",
        "\tl1.append(input())\n",
        "\tprint (\"The value of parameter l1 \", l1)\n",
        "\n",
        "def main():\n",
        "\tlist1 = []\n",
        "\tgetinput(list1)\n",
        "\tprint (\"The value of list1\", list1);\n",
        "\n",
        "if __name__ == '__main__':\n",
        "\tmain()\n"
      ]
    },
    {
      "cell_type": "markdown",
      "metadata": {
        "id": "8EsL9dJF89gG"
      },
      "source": [
        "## Answer the question 2.2 here\n",
        "- Lists are mutable objects in python\n",
        "- When you pass list2 into getinput(list1), both the function and the main program are working on the same list object in memory\n",
        "- Changing l1[0] and l1[1] directly changes list 1 outside the function"
      ]
    },
    {
      "cell_type": "markdown",
      "metadata": {
        "id": "r_NLK6Ik89gG"
      },
      "source": [
        "---\n",
        "#### <p style=\"font-family: Arial; font-size:1.4em; background-color: yellow; color:black;\"> Problem #2.3 </p>\n",
        "\n",
        "####  Check out this code.\n",
        "####  Can we return multiple values in the function?\n"
      ]
    },
    {
      "cell_type": "markdown",
      "metadata": {
        "id": "2tu35TZv89gH"
      },
      "source": [
        "<style>\n",
        "\tp {\n",
        "\t\tbackground-color: grey;\n",
        "\t\tcolor: white;\n",
        "\t\tborder: 3px solid grey\n",
        "\n",
        "\t}\n",
        "</style>\n",
        "\n",
        "<p> Returning multiple values</p>\n"
      ]
    },
    {
      "cell_type": "code",
      "execution_count": 16,
      "metadata": {
        "colab": {
          "base_uri": "https://localhost:8080/"
        },
        "id": "piD7fMBf89gH",
        "outputId": "66396506-2a31-4bff-b234-1af07c8f3eeb"
      },
      "outputs": [
        {
          "output_type": "stream",
          "name": "stdout",
          "text": [
            "10\n",
            "20\n",
            "The value of num1 and num2 are 10 and 20\n"
          ]
        }
      ],
      "source": [
        "\n",
        "def getinput():\n",
        "\tval1 = input()\n",
        "\tval2 = input()\n",
        "\treturn val1, val2\n",
        "\n",
        "def main():\n",
        "\tnum1, num2 = getinput()\n",
        "\tprint (\"The value of num1 and num2 are {0} and {1}\".format(num1, num2))\n",
        "\n",
        "if __name__ == '__main__':\n",
        "\tmain()\n"
      ]
    },
    {
      "cell_type": "markdown",
      "metadata": {
        "id": "JR7x_iSD89gH"
      },
      "source": [
        "## Answer the question 2.3 here\n",
        "- In python, when you return x, y, it is actually returning a tuple: return (x,y)\n",
        "- You can unpack this tuple directly into two variables: a, b = getinput() assigns the first returned value to a and the second to b"
      ]
    },
    {
      "cell_type": "markdown",
      "metadata": {
        "id": "qTV8wgEC89gH"
      },
      "source": [
        "---\n",
        "#### <p style=\"font-family: Arial; font-size:1.4em; background-color: yellow; color:black;\"> Problem #2.4 </p>\n",
        "\n",
        "####  Print the local variable that was used in the function getsum() in the main() function.\n",
        "####  Can we print the same value ? Errors? Why?\n",
        "#### Suggest how we can print the 'total' of the function getsum() in the main()\n"
      ]
    },
    {
      "cell_type": "code",
      "execution_count": 17,
      "metadata": {
        "colab": {
          "base_uri": "https://localhost:8080/"
        },
        "id": "DqoYUeKK89gH",
        "outputId": "b5628a3b-a081-4cf7-9cde-c5e956f66d7b"
      },
      "outputs": [
        {
          "output_type": "stream",
          "name": "stdout",
          "text": [
            "Total is 30\n",
            "Total is 0\n"
          ]
        }
      ],
      "source": [
        "def getsum(n1, n2):\n",
        "    total = n1 + n2\n",
        "    print(f'Total is {total}')\n",
        "\n",
        "def main():\n",
        "    total = 0\n",
        "    num1 = 10\n",
        "    num2 = 20\n",
        "    getsum(num1, num2)\n",
        "    print(f'Total is {total}')\n",
        "\n",
        "if __name__ == '__main__':\n",
        "    main()"
      ]
    },
    {
      "cell_type": "markdown",
      "metadata": {
        "id": "j1_Vnfhf89gH"
      },
      "source": [
        "## Answer the question 2.4 here\n",
        "- total inside getsum() is completely seperate form the total in main()\n",
        "- they are two different variables even though they have the same name\n",
        "- this is because each function ahs its won local scope (its own seperate \"box\" of variables)\n",
        "```\n",
        "def getsum(n1, n2):\n",
        "  total = n1 + n2\n",
        "  return total\n",
        "def main():\n",
        "  total = 0\n",
        "  num1 = 10\n",
        "  num2 = 20\n",
        "  total = getsum(num1, num2)\n",
        "  print(f'Total is {total}')\n",
        "if__name__ == '__main__':\n",
        "  main()\n",
        "```\n"
      ]
    },
    {
      "cell_type": "markdown",
      "metadata": {
        "id": "Vmdvycvz89gH"
      },
      "source": [
        "---\n",
        "## Don't forget to <font color='red'> **\"commit\"** </font> your work or <font color='red'> **\"save\"** </font> in Google Colab\n",
        "## before moving to the next section."
      ]
    },
    {
      "cell_type": "markdown",
      "metadata": {
        "id": "FIFizyQ-89gI"
      },
      "source": [
        "<style>\n",
        "\tp {\n",
        "\t\tbackground-color: grey;\n",
        "\t\tcolor: white;\n",
        "\t\tborder: 3px solid grey\n",
        "\n",
        "\t}\n",
        "</style>\n",
        "\n",
        "<p> Keyword Arguments </p>\n"
      ]
    },
    {
      "cell_type": "markdown",
      "metadata": {
        "id": "4iFtb9xS89gI"
      },
      "source": [
        "***\n",
        "## <p style=\"background-color: grey; color: white \"> ◼️  Keyworded Arguments </p>\n",
        "# <p style=\"font-family: Arial; font-size:1.4em;color:red;\"> 3. Keyworded Arguments</p>\n"
      ]
    },
    {
      "cell_type": "markdown",
      "metadata": {
        "id": "DukN2b6789gI"
      },
      "source": [
        "#### The parameter order can be changed if the keyworded arguments are used"
      ]
    },
    {
      "cell_type": "code",
      "execution_count": 18,
      "metadata": {
        "colab": {
          "base_uri": "https://localhost:8080/"
        },
        "id": "f35uiKSh89gI",
        "outputId": "7fe45db0-c10a-429e-a5e8-a32f4f86b196"
      },
      "outputs": [
        {
          "output_type": "stream",
          "name": "stdout",
          "text": [
            "The first parameter n1 is 200\n",
            "The second parameter n2 is 100\n",
            "The total is 300\n",
            "The value of total is 300\n"
          ]
        }
      ],
      "source": [
        "\n",
        "def getsum(n1, n2):\n",
        "\tprint (f'The first parameter n1 is {n1}')\n",
        "\tprint (f'The second parameter n2 is {n2}')\n",
        "\ttotal = n1 + n2\n",
        "\tprint (f'The total is {total}')\n",
        "\treturn total\n",
        "\n",
        "def main():\n",
        "\ttotal = getsum(n2=100, n1=200)\t# giving the second parameter first\n",
        "\tprint (f'The value of total is {total}')\n",
        "\n",
        "if __name__ == '__main__':\n",
        "\tmain()"
      ]
    },
    {
      "cell_type": "markdown",
      "metadata": {
        "id": "CogDlQ7R89gI"
      },
      "source": [
        "#### <p style=\"font-family: Arial; font-size:1.4em; background-color: yellow; color:black;\"> Problem #3.1 </p>\n",
        "\n",
        "### The function setListValues() will work to make the mylst that has the values 100, 200 and 300\n",
        "####  Complete the function call to make the list as following\n",
        "```\n",
        "mylst = [100, 200, 300]\n"
      ]
    },
    {
      "cell_type": "code",
      "execution_count": 24,
      "metadata": {
        "colab": {
          "base_uri": "https://localhost:8080/"
        },
        "id": "qXyqQPG689gJ",
        "outputId": "cf94c9c1-c43e-48f2-9283-91e7a15a3471"
      },
      "outputs": [
        {
          "output_type": "stream",
          "name": "stdout",
          "text": [
            "[100, 200, 300]\n"
          ]
        }
      ],
      "source": [
        "def setListValues(first_element, second_element, third_element):\n",
        "    global mylst\n",
        "    mylst=[]\n",
        "    mylst.append(first_element)\n",
        "    mylst.append(second_element)\n",
        "    mylst.append(third_element)\n",
        "\n",
        "def main():\n",
        "    setListValues(third_element= 300,\n",
        "                  second_element= 200,\n",
        "                  first_element= 100)\n",
        "    print(mylst)\n",
        "\n",
        "if __name__ == '__main__':\n",
        "    main()\n",
        ""
      ]
    },
    {
      "cell_type": "markdown",
      "metadata": {
        "id": "QKrby-dy89gJ"
      },
      "source": [
        "### Follow up Question\n",
        "\n",
        "### Is the list \"mylst\" in function \"setListValues()\" as the one in \"main\"?\n",
        "----"
      ]
    },
    {
      "cell_type": "markdown",
      "metadata": {
        "id": "K_v4BcS389gJ"
      },
      "source": [
        "### Your Answer :\n",
        "If it's with global, then yes it is the same because it tells the code that the same variable mylst is being used in the entire program, not just in this one function.\n",
        "---"
      ]
    },
    {
      "cell_type": "markdown",
      "metadata": {
        "id": "epAGJe8r89gJ"
      },
      "source": [
        "## Don't forget to <font color='red'> **\"commit\"** </font> your work or <font color='red'> **\"save\"** </font> in Google Colab\n",
        "## before moving to the next section."
      ]
    },
    {
      "cell_type": "markdown",
      "metadata": {
        "id": "eaoK5wRv89gJ"
      },
      "source": [
        "***\n",
        "## <p style=\"background-color: grey; color: white \"> ◼️  Global Variables </p>\n",
        "# <p style=\"font-family: Arial; font-size:1.4em;color:red;\"> 4. Global Variables</p>\n"
      ]
    },
    {
      "cell_type": "markdown",
      "metadata": {
        "id": "tiQKRI_-89gJ"
      },
      "source": [
        "<style>\n",
        "\tp {\n",
        "\t\tbackground-color: grey;\n",
        "\t\tcolor: white;\n",
        "\t\tborder: 3px solid grey\n",
        "\n",
        "\t}\n",
        "</style>\n",
        "\n",
        "<p> Global Variables </p>\n",
        "\n",
        "Run the below code and check out the values <mark> gvar </mark>\n"
      ]
    },
    {
      "cell_type": "code",
      "execution_count": 25,
      "metadata": {
        "colab": {
          "base_uri": "https://localhost:8080/"
        },
        "id": "DOGP3VAi89gK",
        "outputId": "11b8d675-1cae-459e-b0bd-a9e5f4482e40"
      },
      "outputs": [
        {
          "output_type": "stream",
          "name": "stdout",
          "text": [
            "Before call myfunction1  100\n",
            "Inside the function  111\n",
            "After call myfunction1  111\n"
          ]
        }
      ],
      "source": [
        "gvar = 100\n",
        "\n",
        "def myfunction1():\n",
        "\tprint ('Inside the function ', gvar)\n",
        "\n",
        "\n",
        "def main():\n",
        "\tglobal gvar\n",
        "\tprint ('Before call myfunction1 ', gvar)\n",
        "\tgvar += 11\n",
        "\n",
        "\tmyfunction1()\n",
        "\tprint ('After call myfunction1 ', gvar)\n",
        "\n",
        "if __name__ == '__main__':\n",
        "\tmain()"
      ]
    },
    {
      "cell_type": "markdown",
      "metadata": {
        "id": "szqhZFk489gK"
      },
      "source": [
        "#### <p style=\"font-family: Arial; font-size:1.4em; background-color: yellow; color:black;\"> Problem #4.1 </p>\n",
        "\n",
        "####  Explain the printed the value of \"gvar\"  \n",
        "1. Initial global value is 100\n",
        "2. Print before calling myfunction1 (so still 100)\n",
        "3. Inside my function1: gvar += 1 (so 101)\n",
        "4. print after claling myfunction1 (still 101)\n",
        "5. In main(): gvar += 1 again (now 102)\n",
        "6. Final print: 102\n"
      ]
    },
    {
      "cell_type": "code",
      "execution_count": 26,
      "metadata": {
        "colab": {
          "base_uri": "https://localhost:8080/"
        },
        "id": "KbK-ZuPQ89gK",
        "outputId": "c3abc67a-c086-4c17-8dd6-338bebdbc9d8"
      },
      "outputs": [
        {
          "output_type": "stream",
          "name": "stdout",
          "text": [
            "Before call myfunction1  100\n",
            "After call myfunction1  101\n",
            "After increasing by 1 in main function 102\n"
          ]
        }
      ],
      "source": [
        "gvar = 100\n",
        "\n",
        "def myfunction1():\n",
        "    global gvar\n",
        "    gvar += 1\n",
        "\n",
        "def main():\n",
        "\tglobal gvar\n",
        "\tprint ('Before call myfunction1 ', gvar)\n",
        "\tmyfunction1()\n",
        "\tprint ('After call myfunction1 ', gvar)\n",
        "\tgvar += 1\n",
        "\tprint ('After increasing by 1 in main function', gvar)\n",
        "\n",
        "if __name__ == '__main__':\n",
        "\tmain()"
      ]
    },
    {
      "cell_type": "markdown",
      "metadata": {
        "id": "HvA49d8889gK"
      },
      "source": [
        "#### <p style=\"font-family: Arial; font-size:1.4em; background-color: yellow; color:black;\"> Problem #4.2 </p>\n",
        "\n",
        "####  Explain the printed the value of \"gvar\" is 100 even though it has been increased by 1 in the myfuntion1() </p>\n",
        "- in the myfunctioon1(), the line: gvar = 0\n",
        "creates a brand new local variable named gvar inside myfunction1()\n",
        "- this local gvar has no connection to the global gvar\n",
        "- the gvar += 1 line only changes the local copy of gvar to 1\n",
        "- when the function ends, the local gvar is destroyed\n",
        "meanwhile, the global gvar remains unchanged at 100 the wholle time\n"
      ]
    },
    {
      "cell_type": "code",
      "execution_count": null,
      "metadata": {
        "id": "5zVgSvYC89gK",
        "outputId": "aebd7051-752e-484b-ba69-bdfa4be86f23"
      },
      "outputs": [
        {
          "name": "stdout",
          "output_type": "stream",
          "text": [
            "Before call myfunction1  100\n",
            "After call myfunction1  100\n"
          ]
        }
      ],
      "source": [
        "gvar = 100\n",
        "\n",
        "def myfunction1():\n",
        "    gvar = 0\n",
        "    gvar += 1\n",
        "\n",
        "def main():\n",
        "\tglobal gvar\n",
        "\tprint ('Before call myfunction1 ', gvar)\n",
        "\tmyfunction1()\n",
        "\tprint ('After call myfunction1 ', gvar)\n",
        "\n",
        "if __name__ == '__main__':\n",
        "\tmain()"
      ]
    },
    {
      "cell_type": "markdown",
      "metadata": {
        "id": "jV_xc-li89gL"
      },
      "source": [
        "#### <p style=\"font-family: Arial; font-size:1.4em; background-color: yellow; color:black;\"> Problem #4.3 </p>\n",
        "\n",
        "####  Explain why this code encounters error\n",
        "####  Fix the Errors and show the complete code </p>\n",
        "Python sees gvar += 1 as trying to modify a local variable gvar. Since the code didn't declare gvar as global inside myfunction1(), Python thinks the code is using a local variable gvar, but it hasn't been defined yet.\n"
      ]
    },
    {
      "cell_type": "code",
      "execution_count": 31,
      "metadata": {
        "colab": {
          "base_uri": "https://localhost:8080/"
        },
        "id": "Xf7e_W3S89gL",
        "outputId": "ecca2179-fbf7-4dc5-ffd9-b13c8e8a4dce"
      },
      "outputs": [
        {
          "output_type": "stream",
          "name": "stdout",
          "text": [
            "Before call myfunction1  100\n",
            "After call myfunction1  101\n"
          ]
        }
      ],
      "source": [
        "gvar = 100\n",
        "\n",
        "def myfunction1():\n",
        "\tglobal gvar\n",
        "\tgvar += 1\n",
        "\n",
        "def main():\n",
        "\tglobal gvar\n",
        "\tprint ('Before call myfunction1 ', gvar)\n",
        "\tmyfunction1()\n",
        "\tprint ('After call myfunction1 ', gvar)\n",
        "\n",
        "if __name__ == '__main__':\n",
        "\tmain()"
      ]
    },
    {
      "cell_type": "code",
      "execution_count": null,
      "metadata": {
        "id": "gvF66Ipi89gL"
      },
      "outputs": [],
      "source": [
        "# Fix the errors and show the complete code here\n",
        "gvar = 100\n",
        "\n",
        "def myfunction1():\n",
        "  global gvar\n",
        "  gvar += 1\n",
        "\n",
        "def main():\n",
        "\tglobal gvar\n",
        "\tprint ('Before call myfunction1 ', gvar)\n",
        "\tmyfunction1()\n",
        "\tprint ('After call myfunction1 ', gvar)\n",
        "\n",
        "if __name__ == '__main__':\n",
        "\tmain()"
      ]
    },
    {
      "cell_type": "markdown",
      "metadata": {
        "id": "BybgoRSB89gL"
      },
      "source": [
        "## Please <font color='red'> **\"commit\"** </font> your work or <font color='red'> **\"save\"** </font> in Google Colab\n",
        "## before moving to the next section."
      ]
    },
    {
      "cell_type": "markdown",
      "metadata": {
        "id": "A1xyRQZp89gL"
      },
      "source": [
        "***\n",
        "## <p style=\"background-color: grey; color: white \"> ◼️  Arbitrary Arguments and Keyword Arguments</p>\n",
        "# <p style=\"font-family: Arial; font-size:1.4em;color:red;\"> 5. Arbitrary Arguments and Keyword Arguments</p>\n"
      ]
    },
    {
      "cell_type": "markdown",
      "metadata": {
        "id": "8ZrTQNGj89gL"
      },
      "source": [
        "## Arbitrary Argument\n",
        "\n",
        "### An arbitrary argument in Python allows a function to accept an unspecified number of arguments using *args for non-keyword arguments or **kwargs for keyword arguments"
      ]
    },
    {
      "cell_type": "markdown",
      "metadata": {
        "id": "ppgOw5Mk89gM"
      },
      "source": [
        "### Arbitrary Arguments (*args):\n",
        "```\n",
        "* is used to allow a function to accept an arbitrary number of positional arguments.\n",
        "```\n",
        "\n",
        "Basic Example"
      ]
    },
    {
      "cell_type": "code",
      "execution_count": null,
      "metadata": {
        "id": "xaEZFpX089gM"
      },
      "outputs": [],
      "source": [
        "def greet(*args):\n",
        "    for name in args:\n",
        "        print(f\"Hello, {name}!\")\n",
        "\n",
        "greet(\"Alice\", \"Bob\", \"Charlie\")\n"
      ]
    },
    {
      "cell_type": "markdown",
      "metadata": {
        "id": "3SBiINOW89gM"
      },
      "source": [
        "#### Understanding the function type()"
      ]
    },
    {
      "cell_type": "code",
      "execution_count": null,
      "metadata": {
        "id": "H8OmFuq-89gM"
      },
      "outputs": [],
      "source": [
        "number = 10\n",
        "type(number)"
      ]
    },
    {
      "cell_type": "markdown",
      "metadata": {
        "id": "0on3c-Xc89gM"
      },
      "source": [
        "### Check the data type for the arbitrary argument\n"
      ]
    },
    {
      "cell_type": "markdown",
      "metadata": {
        "id": "5Tv2boFR89gM"
      },
      "source": [
        "#### <p style=\"font-family: Arial; font-size:1.4em; background-color: yellow; color:black;\"> Problem #5.1 </p>\n",
        "\n",
        "####  Check the printed data type.  \n",
        "####  Type the printed data type in the below\n"
      ]
    },
    {
      "cell_type": "code",
      "execution_count": null,
      "metadata": {
        "id": "RenWKG7089gM"
      },
      "outputs": [],
      "source": [
        "def myfunction(*values):\n",
        "    print(type(values))\n",
        "    print (values)\n",
        "    for v in values:\n",
        "        print (v, end='\\t')\n",
        "\n",
        "n1 = 10; n2 = 20; n3=30;\n",
        "myfunction(n1, n2, n3)"
      ]
    },
    {
      "cell_type": "markdown",
      "metadata": {
        "id": "dqAua5BN89gN"
      },
      "source": [
        "#### <mark> Type your answer here </mark>\n",
        "- What is the data type of values in the function ?\n",
        "- the printed data type is tuple\n",
        "- the printed values are: (10, 20, 30)"
      ]
    },
    {
      "cell_type": "markdown",
      "metadata": {
        "id": "LZjdVzCS89gN"
      },
      "source": [
        "***\n",
        "#### <p style=\"font-family: Arial; font-size:1.4em; background-color: yellow; color:black;\"> Problem #5.2 </p>\n",
        "\n",
        "####  Check the printed data type.  \n",
        "####  Type the printed data type in the below\n"
      ]
    },
    {
      "cell_type": "code",
      "execution_count": null,
      "metadata": {
        "id": "e_U15hgY89gN",
        "outputId": "bdfd4274-78ef-4273-88ef-e2407d409ae6"
      },
      "outputs": [
        {
          "name": "stdout",
          "output_type": "stream",
          "text": [
            "<class 'list'> It has been printed in the main()\n",
            "<class 'tuple'> It has been printed in the funtion myfuntion()\n",
            "([10, 20, 30],)\n",
            "[10, 20, 30]\t\n"
          ]
        }
      ],
      "source": [
        "def myfunction(*args):\n",
        "    print(type(args), 'It has been printed in the funtion myfuntion()') # type the printed data type in the below cell\n",
        "    print ('The value of args is ', args)\n",
        "    for v in args:\n",
        "        print (v, end='\\t')\n",
        "    print(' ')\n",
        "def main():\n",
        "    values = [10, 20, 30]\n",
        "    print (type(values), 'It has been printed in the main()')    # type the printed data type in the below cell\n",
        "    myfunction(values)\n",
        "\n",
        "if __name__ == '__main__':\n",
        "    main()\n"
      ]
    },
    {
      "cell_type": "markdown",
      "metadata": {
        "id": "-zBTA93T89gN"
      },
      "source": [
        "#### <mark> Type your answer here </mark>\n",
        "\n",
        "### Are the two printed data types same?\n",
        "no, they are different\n",
        "- What is the data type printed in main()?\n",
        "```css\n",
        "list\n",
        "(<class 'list'>)\n",
        "```\n",
        "Because values = [10, 20, 30] is a list.\n",
        "- What is the data type printed in myfunction()?\n",
        "```css\n",
        "tuple\n",
        "(<class 'tuple'>)\n",
        "```\n",
        "Because *args packs the argument into a tuple. But you're passing the whole values list as a single argument, so args = ([10, 20, 30],).\n",
        "- How many elements are there in the tuple \"args\" ?\n",
        "1 element, because you're passing one list as a single argument\n",
        "So the tuple looks like:\n",
        "```css\n",
        "([10, 20, 30],)\n",
        "```\n",
        "- What is the data type of <mark> element </mark> in the tuple \"args\" ?\n",
        "The one and only element inside args is [10, 20, 30], which is a list\n",
        "- How many elements are there in the list \"values\" ?  How many iterations are occured in the for loop of myfuntion()? Why? Explain it.\n",
        "1 iteration because the loop for v in args iterates over the elements of the tuple args. Since args contains only one element (the list [10, 20, 30]), the loop runs once. That one element (v) is the list [10, 20, 30], which is why you see:\n",
        "```\n",
        "[10, 20, 30]\n",
        "```"
      ]
    },
    {
      "cell_type": "markdown",
      "metadata": {
        "id": "oqJlraqy89gN"
      },
      "source": [
        "***\n",
        "#### <p style=\"font-family: Arial; font-size:1.4em; background-color: yellow; color:black;\"> Problem #5.3 </p>\n",
        "\n",
        "####  Check the printed data type and clarify the difference printed output values between two function calls\n",
        "####  \n"
      ]
    },
    {
      "cell_type": "code",
      "execution_count": null,
      "metadata": {
        "id": "ygAn8fDx89gN",
        "outputId": "204a7cc2-ed61-43b3-b9eb-b79d46b93b98"
      },
      "outputs": [
        {
          "name": "stdout",
          "output_type": "stream",
          "text": [
            "<class 'tuple'>\n",
            "([10, 20, 30],)\n",
            "[10, 20, 30]\t\n",
            "<class 'tuple'>\n",
            "(10, 20, 30)\n",
            "10\t20\t30\t\n"
          ]
        }
      ],
      "source": [
        "def myfunction(*values):\n",
        "    print(type(values)) # type the printed data type in the below cell\n",
        "    print (values)\n",
        "    for v in values:\n",
        "        print (v, end='\\t')\n",
        "    print()\n",
        "\n",
        "def main():\n",
        "    values = [10, 20, 30]\n",
        "    myfunction(values)          # It prints (10, 20, 30)    Why ?\n",
        "\n",
        "    val1 = 10 ; val2 = 20; val3 = 30;\n",
        "    myfunction(val1, val2, val3)        # It prints 10 20 30 ; Why?\n",
        "if __name__ == '__main__':\n",
        "    main()\n"
      ]
    },
    {
      "cell_type": "markdown",
      "metadata": {
        "id": "h21Nwa6I89gO"
      },
      "source": [
        "#### <mark> Type your answer here </mark>\n",
        "\n",
        "### Are the two printed data types same?\n",
        "Yes, both are tuple\n",
        "- What is the data type printed in main()?\n",
        "values = [10, 20, 30], which is a list\n",
        "- What is the data type printed in myfunction()?\n",
        "in both calls, values inside myfunction() is a tuple. But, in call1: the tuple contains one element (a list) and call 2: the tuple contains three elements (integers)\n",
        "- How many elements are there in the tuple 'values' at each call myfunction() ? How many iterations are occured in the for-loop? why?\n",
        "When you call myfunction(values), you are passing one single argument into the function, which is a list. Inside the function, the parameter *values packs all the arguments into a tuple. Since you passed just one list, the tuple becomes: values = ([10, 20, 30],). This means the tuple contains one element and that one element is the entire list[10, 20, 30]. As a result, the for loop:\n",
        "```\n",
        "for v in values:\n",
        "  print(v, end = '\\t')\n",
        "```\n",
        "iterates only once, because the tuple has just one item (which is the list itself) </p>\n",
        "When you call myfunction(val1, val2, val3), you are passing three seperate integer arguments: 10, 20, and 30. Again, *values collects these arguments into a tuple: values = (10, 20, 30). Here, the tuple contains three elements, one for each number. Therefore, the for loop:\n",
        "```\n",
        "for v in values:\n",
        "  print(v, end='\\t')\n",
        "```\n",
        "iterates three times, once for each of the three integers."
      ]
    },
    {
      "cell_type": "markdown",
      "metadata": {
        "id": "pfgQRPNe89gO"
      },
      "source": [
        "***\n",
        "#### <p style=\"font-family: Arial; font-size:1.4em; background-color: yellow; color:black;\"> Problem #5.4 </p>\n",
        "\n",
        "####  Clarify the differences between two functions \"myfn1\" and \"myfn2\"\n",
        "####  Answer in the below markdown cell.\n"
      ]
    },
    {
      "cell_type": "code",
      "execution_count": null,
      "metadata": {
        "id": "QOOuq0U189gO"
      },
      "outputs": [],
      "source": [
        "def myfn1(*values):\n",
        "    print (type(values))\n",
        "    for v in values:\n",
        "        print (v, end='\\t')\n",
        "\n",
        "def myfn2(values):\n",
        "    print (type(values))\n",
        "    for v in values:\n",
        "        print (v, end='\\t')\n",
        "\n",
        "values = [10, 20, 30]\n",
        "myfn1(values)\n",
        "print()\n",
        "myfn2(values)"
      ]
    },
    {
      "cell_type": "markdown",
      "metadata": {
        "id": "w_OqDxBT89gO"
      },
      "source": [
        "#### <mark> Type your answer here </mark>\n",
        "\n",
        "### Are the two printed data types same?\n",
        "No, they are the not the same. myfn1 is a tuple and myfn2 is a list.\n",
        "- Are the printed values are same? If not, why?\n",
        "no, myfn1(values) prints [10,20,30] and myfn2(values) prints 10 20 30.\n",
        "***"
      ]
    },
    {
      "cell_type": "markdown",
      "metadata": {
        "id": "uE3jogmi89gO"
      },
      "source": [
        "## Unpacking Operator:\n",
        "\n",
        "### <mark> * </mark> is used to unpack elements from a list or tuple into separate variables or to pass multiple arguments to a function."
      ]
    },
    {
      "cell_type": "code",
      "execution_count": 32,
      "metadata": {
        "colab": {
          "base_uri": "https://localhost:8080/"
        },
        "id": "jlnYqbej89gO",
        "outputId": "2b9d1d96-9afb-4c4f-c09d-14313ce3f00f"
      },
      "outputs": [
        {
          "output_type": "stream",
          "name": "stdout",
          "text": [
            "[10, 20, 30]\n",
            "10 20 30\n"
          ]
        }
      ],
      "source": [
        "# check out the difference between two print statements\n",
        "numbers = [10, 20, 30]\n",
        "print (numbers)\n",
        "print (*numbers)\n"
      ]
    },
    {
      "cell_type": "markdown",
      "metadata": {
        "id": "gEzllK3T89gP"
      },
      "source": [
        "***\n",
        "#### <p style=\"font-family: Arial; font-size:1.4em; background-color: yellow; color:black;\"> Problem #5.5 </p>\n",
        "\n",
        "####  Clarify the differences of the printed output between two functions \"myfn1\" and \"myfn2\"\n",
        "####  Answer in the below markdown cell.\n"
      ]
    },
    {
      "cell_type": "code",
      "execution_count": null,
      "metadata": {
        "id": "96BqPT5l89gP"
      },
      "outputs": [],
      "source": [
        "def myfn1(n1, n2, n3):\n",
        "    print (n1, n2, n3)\n",
        "\n",
        "def myfn2(val):\n",
        "    print (val)\n",
        "    for v in val:\n",
        "        print (v, end=' ')\n",
        "    print()\n",
        "\n",
        "numbers = [10, 20, 30]\n",
        "myfn1(*numbers)\n",
        "myfn2(numbers)"
      ]
    },
    {
      "cell_type": "markdown",
      "metadata": {
        "id": "jXET5VvF89gP"
      },
      "source": [
        "#### <mark> Type your answer here </mark>\n",
        "\n",
        "### Are the two printed output same?\n",
        "no, they are not the same output.\n",
        "first call is 10 20 30 and the second call is [10, 20, 30]\n",
        "- Are the printed values are same? If not, why?  <br>\n",
        "the individual numbers are the same, but the way they are printed is different because:\n",
        "myfn1(*numbers) unpacks the list into 3 seperate arguments (n1=10, n2=20, n3=30). myfn2(numbers) passes the whole list as one argument, so the list is printed first, then its contents are printed by looping through it.\n",
        "- Is it possible to call function myfn1() ? Clarify your answer<br>  \n",
        "no, this will cause on error because myfn1 expects 3 seperate arguments. If you call myfn1(numbers), Python treats numbers (the whole list) as the first argument (n1), and the other two (n2, n3) are missing. You must unpack the list using *numbers to call myfn1 correctly.\n",
        "- Is it possible to call function myfn2() ? Clarify your answer <br>\n",
        "Yes it is possible, but what happens is numbers = [10, 20, 30]; *numbers unpacks it into 10, 20 30. So it becomes: myfn2(10, 20, 30), but myfn2 only expects one parameter (val), so this call will error out. So you should not unpack if the function expects one argument.\n",
        "\n",
        "***"
      ]
    },
    {
      "cell_type": "markdown",
      "metadata": {
        "id": "5Ul-BO5I89gP"
      },
      "source": [
        "***"
      ]
    },
    {
      "cell_type": "markdown",
      "metadata": {
        "id": "ebLHPmX289gP"
      },
      "source": [
        "# Keyword Arguments (**args):\n",
        "```\n",
        "* is used to allow a function to accept an arbitrary number of positional arguments.\n",
        "```\n",
        "\n",
        "Basic Example"
      ]
    },
    {
      "cell_type": "markdown",
      "metadata": {
        "id": "V9BRJJ9s89gP"
      },
      "source": [
        "***\n",
        "#### <p style=\"font-family: Arial; font-size:1.4em; background-color: yellow; color:black;\"> Problem #5.5 </p>\n",
        "\n",
        "####  Run the below code cell  \n",
        "####  Answer in the below markdown cell.\n"
      ]
    },
    {
      "cell_type": "markdown",
      "metadata": {
        "id": "Vf8TJ21T89gP"
      },
      "source": [
        "### **kwargs\n",
        "## Run the following code and learn about the keyword argument"
      ]
    },
    {
      "cell_type": "code",
      "execution_count": 33,
      "metadata": {
        "colab": {
          "base_uri": "https://localhost:8080/"
        },
        "id": "2VN3rr0x89gQ",
        "outputId": "32bedfaf-95e6-4f57-dbb2-46fb66d75fe2"
      },
      "outputs": [
        {
          "output_type": "stream",
          "name": "stdout",
          "text": [
            "<class 'dict'> The type of kwargs\n",
            "True <--- If this is true, kwargs is a dictionary \n",
            "first -> California\n",
            "mid -> Community\n",
            "last -> College\n"
          ]
        }
      ],
      "source": [
        "def myFun(**kwargs):\n",
        "\tprint (type(kwargs), 'The type of kwargs')\n",
        "\tprint (isinstance(kwargs, dict), '<--- If this is true, kwargs is a dictionary ')\n",
        "\tfor key, value in kwargs.items():\n",
        "\t\tprint (\"%s -> %s\" %(key, value))\n",
        "\n",
        "\n",
        "myFun(first ='California', mid ='Community', last='College')\n"
      ]
    },
    {
      "cell_type": "markdown",
      "metadata": {
        "id": "UFM5lwqR89gQ"
      },
      "source": [
        "\n",
        "-  What is the type of \"kwargs\" ? <br>\n",
        "-  Is it true \"isinstance(kwargs, dict) ?  <br>"
      ]
    },
    {
      "cell_type": "markdown",
      "metadata": {
        "id": "P2f-z_cA89gQ"
      },
      "source": [
        "#### <mark> Type your answer here </mark>\n",
        "- dict, aka dictionary\n",
        "- Yes, isinstance(kwargs, dict) returns True, confirming that:\n",
        "-kwargs is indeed a dictionary containing the key-value pairs passed as keyword arguments\n",
        "***"
      ]
    },
    {
      "cell_type": "markdown",
      "metadata": {
        "id": "UctXKYcb89gQ"
      },
      "source": [
        "#### <p style=\"font-family: Arial; font-size:1.4em; background-color: yellow; color:black;\"> Problem #5.6 </p>\n",
        "\n",
        "####  Call the function myFun( ) with the following code\n",
        "``` myFun(mid ='Community', last='College', first ='California') ```\n",
        "\n",
        "#### And explain the output. Was output printed from \"first\" key value or \"mid\" key value?\n"
      ]
    },
    {
      "cell_type": "code",
      "execution_count": null,
      "metadata": {
        "id": "TnMqE8iy89gQ"
      },
      "outputs": [],
      "source": [
        "def myFun(**kwargs):\n",
        "\tfor key, value in kwargs.items():\n",
        "\t\tprint (\"%s -> %s\" %(key, value))\n",
        "\n",
        "myFun(mid='Community', last='College', first='California')\n"
      ]
    },
    {
      "cell_type": "markdown",
      "metadata": {
        "id": "EBSwWI9C89gQ"
      },
      "source": [
        "#### <mark> Type your answer here </mark>\n",
        "- The output order is based on how the function is written, but on how Python stores the dictionary internally\n",
        "- Since Python 3.7+, dictionaries preserve insertion order, so the output will print:</p>\n",
        "mid -> Community </p>\n",
        "last -> College </p>\n",
        "first -> California </p>\n",
        "in the same order as you passed the arguments\n",
        "- the first printed line is from the \"mid\" key value. Because: </p>\n",
        "```\n",
        "myFun(mid='Community', last='College', first='California')\n",
        "```\n",
        "passes mid first and the dictionary preserves this order when looping through .items()\n",
        "***"
      ]
    },
    {
      "cell_type": "markdown",
      "metadata": {
        "id": "YUcw5rfd89gQ"
      },
      "source": [
        "## Call function with the single value and keyword argument\n",
        "```\n",
        "myFun( normalvalue, **keyword_argument)\n",
        "```"
      ]
    },
    {
      "cell_type": "code",
      "execution_count": 34,
      "metadata": {
        "colab": {
          "base_uri": "https://localhost:8080/"
        },
        "id": "cDjB10Jw89gR",
        "outputId": "aa825f33-8b60-4c23-d6ef-e57b00e3c50c"
      },
      "outputs": [
        {
          "output_type": "stream",
          "name": "stdout",
          "text": [
            "Apple\n",
            "mid -> Pear\n",
            "last -> Orange\n",
            "Apple\n",
            "mid -> Pear\n",
            "last -> Orange\n"
          ]
        }
      ],
      "source": [
        "def myFun(first, **kwargs):\n",
        "\tprint (first)\n",
        "\tfor key, value in kwargs.items():\n",
        "\t\tprint (\"%s -> %s\" %(key, value))\n",
        "\n",
        "# call myfun() with separate key=value pairs\n",
        "myFun('Apple', mid ='Pear', last='Orange')\n",
        "\n",
        "# Or\n",
        "kwargs = {'mid':'Pear', 'last':'Orange'}\n",
        "myFun('Apple',**kwargs)\n",
        "\n"
      ]
    },
    {
      "cell_type": "markdown",
      "metadata": {
        "id": "S4sEQ5ET89gR"
      },
      "source": [
        "#### <p style=\"font-family: Arial; font-size:1.4em; background-color: yellow; color:black;\"> Problem #5.7 </p>\n",
        "\n",
        "####  Call the function myFun( ) with the following code\n",
        "```\n",
        "\t# Call 1\n",
        "\tmyFun(\"Java\", \"C++\", \"Python\")\n",
        "\tmyFun(arg2=\"C++\", arg3=\"Python\", arg1=\"Java\")\n",
        "\n",
        "\t# Call 2\n",
        "\targs = (\"Java\", \"C++\", \"Python\")\n",
        "\tmyFun(*args)\n",
        "\n",
        "\t# Call 3\n",
        "\tkwargs = {\"arg1\" : \"Java\", \"arg2\" : \"C++\", \"arg3\" : \"Python\"}\n",
        "\tmyFun(**kwargs)\n",
        "```\n",
        "#### And explain the output. All outputs are same?\n"
      ]
    },
    {
      "cell_type": "markdown",
      "metadata": {
        "id": "tR2hCjgc89gR"
      },
      "source": [
        "## Call function(a, b, c) with\n",
        "- normal value argument: -----   function(arg1, arg2, arg3)\n",
        "- arbitrary argument:-----       function(*args)\n",
        "- keyword argument:-----         function(**kargs)\n",
        "```\n",
        "def myFun( a, b, c):\n",
        "```"
      ]
    },
    {
      "cell_type": "code",
      "execution_count": null,
      "metadata": {
        "id": "n-Dhs_He89gR"
      },
      "outputs": [],
      "source": [
        "def myFun(arg1, arg2, arg3):\n",
        "\tprint(\"arg1:\", arg1, end='\\t')\n",
        "\tprint(\"arg2:\", arg2, end='\\t')\n",
        "\tprint(\"arg3:\", arg3, end='\\n')\n",
        "\n",
        "def main():\n",
        "\t# Call 1\n",
        "\tmyFun(\"Java\", \"C++\", \"Python\")\n",
        "\tmyFun(arg2=\"C++\", arg3=\"Python\", arg1=\"Java\")\n",
        "\n",
        "\t# Call 2\n",
        "\targs = (\"Java\", \"C++\", \"Python\")\n",
        "\tmyFun(*args)\n",
        "\t# Call 3\n",
        "\tkwargs = {\"arg1\" : \"Java\", \"arg2\" : \"C++\", \"arg3\" : \"Python\"}\n",
        "\tmyFun(**kwargs)\n",
        "\n",
        "\n",
        "if __name__ == '__main__':\n",
        "    main()\n",
        ""
      ]
    },
    {
      "cell_type": "markdown",
      "metadata": {
        "id": "sDQvGvHi89gR"
      },
      "source": [
        "#### <mark> Type your answer here </mark>\n",
        "\n",
        "### All the output are same? Why? Explain it.\n",
        "- Yes, all the outputs are the same because all calls successfully assign: </p>\n",
        "- \"Java\" to arg1\n",
        "- \"C++\" to arg2\n",
        "- \"Python\" to arg3 </p>\n",
        "No matter how the arguments are passed (positionally, with keywords, or unpacked), the function receives the same three values.\n",
        "***"
      ]
    },
    {
      "cell_type": "markdown",
      "metadata": {
        "id": "p1G1WkqC89gR"
      },
      "source": [
        "## Other usefule expressions with arbitarary argument\n",
        "\n",
        "#### Run the followig code cells and learn the arbitrary argument"
      ]
    },
    {
      "cell_type": "markdown",
      "metadata": {
        "id": "JaZjEteh89gS"
      },
      "source": [
        "<style>\n",
        "\tp {\n",
        "\t\t--background-color: grey;\n",
        "\t\tcolor: white;\n",
        "\t\tborder: 3px solid grey\n",
        "\n",
        "\t}\n",
        "</style>\n",
        "\n",
        "<p> Using the arbitrary arguments to save the returned value</p>\n",
        "\n"
      ]
    },
    {
      "cell_type": "code",
      "execution_count": 35,
      "metadata": {
        "colab": {
          "base_uri": "https://localhost:8080/"
        },
        "id": "GmkAAMbv89gS",
        "outputId": "d9b5c097-284b-46be-baf1-5a42ba3436a8"
      },
      "outputs": [
        {
          "output_type": "stream",
          "name": "stdout",
          "text": [
            "2\n",
            "6\n",
            "[4]\n"
          ]
        }
      ],
      "source": [
        "def retEven(lst):\n",
        "\tevenlst = []\n",
        "\tfor v in lst:\n",
        "\t\tif v % 2 == 0:\n",
        "\t\t\tevenlst.append(v)\n",
        "\treturn evenlst\n",
        "\n",
        "lst = [1,2,3,4,5,6]\n",
        "first, *others, last = retEven(lst)\n",
        "print (first)\n",
        "print (last)\n",
        "print (others)\n"
      ]
    },
    {
      "cell_type": "markdown",
      "metadata": {
        "id": "dkPhqumg89gS"
      },
      "source": [
        "<style>\n",
        "\th1 {\n",
        "\t\tbackground-color: grey;\n",
        "\t\tcolor: Yellow;\n",
        "\t\tborder: 3px solid grey;\n",
        "\t\t-- font-size: xx-large;\n",
        "\t}\n",
        "\tp {\n",
        "\t\tbackground-color: grey;\n",
        "\t\tcolor: white;\n",
        "\t\tborder: 3px solid grey;\n",
        "\t\tfont-size: xx-large\n",
        "\t}\n",
        "</style>\n",
        "<p> Example: *args </p>\n"
      ]
    },
    {
      "cell_type": "code",
      "execution_count": 36,
      "metadata": {
        "colab": {
          "base_uri": "https://localhost:8080/"
        },
        "id": "GheBFiJB89gS",
        "outputId": "ef5e76df-952d-4207-e8c5-5ad96d32296e"
      },
      "outputs": [
        {
          "output_type": "stream",
          "name": "stdout",
          "text": [
            "('Python Programming',)\n",
            "The value v is  Python Programming \tThe type of v is  <class 'str'>\n",
            "\n",
            "([1, 2, 3, 4, 5],)\n",
            "The value v is  [1, 2, 3, 4, 5] \tThe type of v is  <class 'list'>\n",
            "\n",
            "(1, 2, 3, 4, 5)\n",
            "The value v is  1 \tThe type of v is  <class 'int'>\n",
            "The value v is  2 \tThe type of v is  <class 'int'>\n",
            "The value v is  3 \tThe type of v is  <class 'int'>\n",
            "The value v is  4 \tThe type of v is  <class 'int'>\n",
            "The value v is  5 \tThe type of v is  <class 'int'>\n",
            "\n"
          ]
        }
      ],
      "source": [
        "\n",
        "def printstring(*string):\n",
        "\tprint (string)\n",
        "\tfor v in string:\n",
        "\t\tprint ('The value v is ', v, '\\tThe type of v is ', type(v) )\n",
        "\n",
        "\tprint ()\n",
        "\n",
        "stringvalue = \"Python Programming\"\n",
        "printstring(stringvalue)\n",
        "\n",
        "integerlist = [1,2,3,4,5]\n",
        "printstring(integerlist)\n",
        "\n",
        "printstring(1,2,3,4,5)"
      ]
    },
    {
      "cell_type": "markdown",
      "metadata": {
        "id": "B9ApyPOC89gS"
      },
      "source": [
        "## Please <font color='red'> **\"commit\"** </font> your work or <font color='red'> **\"save\"** </font> in Google Colab\n",
        "## before moving to the next section."
      ]
    },
    {
      "cell_type": "markdown",
      "metadata": {
        "id": "lSu4JTx789gS"
      },
      "source": [
        "***\n",
        "# <p style=\"background-color: grey; color: white \"> ◼️  Section 6 </p>\n",
        "# <p style=\"font-family: Arial; font-size:1.4em;color:red;\"> 6. Yield </p>\n"
      ]
    },
    {
      "cell_type": "markdown",
      "metadata": {
        "id": "WBfTiw8189gT"
      },
      "source": [
        "<style>\n",
        "\th1 {\n",
        "\t\tbackground-color: grey;\n",
        "\t\tcolor: Yellow;\n",
        "\t\tborder: 3px solid grey;\n",
        "\t\t-- font-size: xx-large;\n",
        "\t}\n",
        "\tp {\n",
        "\t\tbackground-color: grey;\n",
        "\t\tcolor: white;\n",
        "\t\tborder: 3px solid grey;\n",
        "\t}\n",
        "</style>\n",
        "<h1 font-size:40px> 6.1 iterator </h1>\n",
        "\n"
      ]
    },
    {
      "cell_type": "markdown",
      "metadata": {
        "id": "aBpRNDF089gT"
      },
      "source": [
        "## Understanding Iterator\n",
        "\n",
        "#### Run the followig code cells and learn the Iterator concept"
      ]
    },
    {
      "cell_type": "markdown",
      "metadata": {
        "id": "Ss8ZmSdT89gT"
      },
      "source": [
        "<style>\n",
        "\th3 {\n",
        "\t\tbackground-color: black;\n",
        "\t\tcolor: white;\n",
        "\t\tborder: 1px solid grey;\n",
        "\t\tfont-size: 30px;\n",
        "\t}\n",
        "\tp {\n",
        "\t\tbackground-color: #336666;\n",
        "\t\tcolor: white;\n",
        "\t\tborder: 1px solid grey;\n",
        "\t\tfont-size: 24;\n",
        "\t}\n",
        "</style>\n",
        "\n",
        "<h3> Iterator </h3>\n",
        "<p>\n",
        "\n",
        "An iterator in Python is an object that enables you to traverse through a collection of elements, such as a list, tuple, or dictionary, one element at a time. It implements two main methods:\n",
        "```\n",
        "__iter__(): Returns the iterator object itself. This is required for an object to be an iterator.\n",
        "__next__(): Returns the next item from the collection. When there are no more items, it raises a StopIteration exception.\n",
        "```\n",
        "</p>"
      ]
    },
    {
      "cell_type": "markdown",
      "metadata": {
        "id": "b9GFoqXl89gT"
      },
      "source": [
        "#### <p style=\"font-family: Arial; font-size:1.4em; background-color: yellow; color:black;\"> Problem #6.1 </p>\n",
        "\n",
        "<style>\n",
        "\tp {\n",
        "\t\tbackground-color: black;\n",
        "\t\tcolor: white;\n",
        "\t\tborder: 1px solid grey;\n",
        "\t\tfont-size: 30px;\n",
        "\t}\n",
        "</style>\n",
        "<p> Run the following code cells and answer the questions </p>  \n"
      ]
    },
    {
      "cell_type": "markdown",
      "metadata": {
        "id": "lAORSrQt89gT"
      },
      "source": [
        "#### What is the type of \"myiter\"?\n",
        "- list_iterator\n",
        "- The function iter() takes an iterable object (like a list) and returns an iterator\n",
        "- An iterator is an object that allows you to go through the elements one at a time using: next(myiter), or inside a for loop"
      ]
    },
    {
      "cell_type": "code",
      "execution_count": 37,
      "metadata": {
        "colab": {
          "base_uri": "https://localhost:8080/"
        },
        "id": "rS02LHVn89gT",
        "outputId": "944537f4-ad43-4496-b864-76bea7b3c702"
      },
      "outputs": [
        {
          "output_type": "execute_result",
          "data": {
            "text/plain": [
              "list_iterator"
            ]
          },
          "metadata": {},
          "execution_count": 37
        }
      ],
      "source": [
        "mylst = [10, 20, 30]\n",
        "myiter = iter(mylst)\n",
        "\n",
        "type(myiter)"
      ]
    },
    {
      "cell_type": "markdown",
      "metadata": {
        "id": "kz_CxxyQ89gT"
      },
      "source": [
        "#### What is the result of the following code?\n",
        "``` myiter.__next__() ```\n",
        "- 10 because it will return the next element in the iterator"
      ]
    },
    {
      "cell_type": "code",
      "execution_count": 38,
      "metadata": {
        "colab": {
          "base_uri": "https://localhost:8080/"
        },
        "id": "cTs9CuP489gU",
        "outputId": "d02344f8-fa59-41cd-f722-58e0daa478d7"
      },
      "outputs": [
        {
          "output_type": "execute_result",
          "data": {
            "text/plain": [
              "10"
            ]
          },
          "metadata": {},
          "execution_count": 38
        }
      ],
      "source": [
        "myiter.__next__()"
      ]
    },
    {
      "cell_type": "markdown",
      "metadata": {
        "id": "eNmK3CyA89gU"
      },
      "source": [
        "#### What is the result of the following code?\n",
        "```\n",
        "    myiter.__next__()  \n",
        "    myiter.__next__()\n",
        "```\n",
        "- 20\n",
        "- 30 </p>\n",
        "The iterator remembers its current position. Each time you call __next__(), it moves forward one step."
      ]
    },
    {
      "cell_type": "code",
      "execution_count": 39,
      "metadata": {
        "colab": {
          "base_uri": "https://localhost:8080/"
        },
        "id": "jLR6-kED89gU",
        "outputId": "3ad31702-2570-4217-cdd2-6c76f673a92a"
      },
      "outputs": [
        {
          "output_type": "stream",
          "name": "stdout",
          "text": [
            "20\n",
            "30\n"
          ]
        }
      ],
      "source": [
        "print (myiter.__next__())\n",
        "print (myiter.__next__())"
      ]
    },
    {
      "cell_type": "markdown",
      "metadata": {
        "id": "6J97DtAM89gU"
      },
      "source": [
        "#### If you run this code one more, you will see error. Show the error message. Why does it cause an error?\n",
        "```\n",
        "    myiter.__next__()  \n",
        "```\n",
        "---------------------------------------------------------------------------\n",
        "StopIteration                             Traceback (most recent call last)\n",
        "<ipython-input-40-279da4cfd673> in <cell line: 0>()\n",
        "----> 1 print (myiter.__next__())\n",
        "\n",
        "StopIteration: </p>\n",
        "- The iterator is now exhausted because there are no more items left in the list\n",
        "- When you call __next__() after the last item, Pythoon raises the special exception: StopIteration\n",
        "- This is how Python signals that the iteration is complete"
      ]
    },
    {
      "cell_type": "code",
      "execution_count": 40,
      "metadata": {
        "colab": {
          "base_uri": "https://localhost:8080/",
          "height": 144
        },
        "id": "rgafuuNI89gU",
        "outputId": "ac8cc829-7dbc-4234-b3c1-3d2e3fa29d7d"
      },
      "outputs": [
        {
          "output_type": "error",
          "ename": "StopIteration",
          "evalue": "",
          "traceback": [
            "\u001b[0;31m---------------------------------------------------------------------------\u001b[0m",
            "\u001b[0;31mStopIteration\u001b[0m                             Traceback (most recent call last)",
            "\u001b[0;32m<ipython-input-40-279da4cfd673>\u001b[0m in \u001b[0;36m<cell line: 0>\u001b[0;34m()\u001b[0m\n\u001b[0;32m----> 1\u001b[0;31m \u001b[0mprint\u001b[0m \u001b[0;34m(\u001b[0m\u001b[0mmyiter\u001b[0m\u001b[0;34m.\u001b[0m\u001b[0m__next__\u001b[0m\u001b[0;34m(\u001b[0m\u001b[0;34m)\u001b[0m\u001b[0;34m)\u001b[0m\u001b[0;34m\u001b[0m\u001b[0;34m\u001b[0m\u001b[0m\n\u001b[0m",
            "\u001b[0;31mStopIteration\u001b[0m: "
          ]
        }
      ],
      "source": [
        "print (myiter.__next__())"
      ]
    },
    {
      "cell_type": "markdown",
      "metadata": {
        "id": "63wJvKYV89gU"
      },
      "source": [
        "#### next() function is the same as ``` __next__() ```\n",
        "```\n",
        "    iter_obj = iter(mylst)\n",
        "    next(iter_obj)\n",
        "```"
      ]
    },
    {
      "cell_type": "code",
      "execution_count": 41,
      "metadata": {
        "colab": {
          "base_uri": "https://localhost:8080/"
        },
        "id": "dylrLXCi89gV",
        "outputId": "8759cd2f-3e58-4f96-d90c-8ed4ce7678fb"
      },
      "outputs": [
        {
          "output_type": "stream",
          "name": "stdout",
          "text": [
            "1\n",
            "2\n",
            "3\n"
          ]
        }
      ],
      "source": [
        "mylst = [1,2,3]\n",
        "itobj= iter(mylst)\n",
        "print (next(itobj))\n",
        "print (next(itobj))\n",
        "print (next(itobj))"
      ]
    },
    {
      "cell_type": "markdown",
      "metadata": {
        "id": "TUS44tdh89gV"
      },
      "source": [
        "***\n",
        "#### <p style=\"font-family: Arial; font-size:1.4em; background-color: yellow; color:black;\"> Problem #6.2: Loop Structures with Iterator </p>\n",
        "\n",
        "<style>\n",
        "\tp {\n",
        "\t\tbackground-color: black;\n",
        "\t\tcolor: white;\n",
        "\t\tborder: 1px solid grey;\n",
        "\t\tfont-size: 30px;\n",
        "\t}\n",
        "</style>\n",
        "<p> Run the following code cells and answer the questions </p>  \n"
      ]
    },
    {
      "cell_type": "markdown",
      "metadata": {
        "id": "SRUrJWv789gV"
      },
      "source": [
        "#### Compare two loop structures with iterator, for loop and while loop."
      ]
    },
    {
      "cell_type": "markdown",
      "metadata": {
        "id": "pTYEuH0_89gV"
      },
      "source": [
        "<style>\n",
        "\th5 {\n",
        "\t\tbackground-color: black;\n",
        "\t\tcolor: white;\n",
        "\t\tborder: 1px solid grey;\n",
        "\t\tfont-size: 30px;\n",
        "\t}\n",
        "\tp {\n",
        "\t\tbackground-color: #336666;\n",
        "\t\tcolor: white;\n",
        "\t\tborder: 1px solid grey;\n",
        "\t\tfont-size: 24;\n",
        "\t}\n",
        "</style>\n",
        "##### for loop\n",
        "<p>\n",
        "Using Iterators in Loops <br>\n",
        "Most commonly, you use iterators in a for loop, which automatically handles the StopIteration exception:\n",
        "</p>"
      ]
    },
    {
      "cell_type": "code",
      "execution_count": 42,
      "metadata": {
        "colab": {
          "base_uri": "https://localhost:8080/"
        },
        "id": "S-Jzsri389gV",
        "outputId": "8a35bfc1-978c-414c-a116-0bf3133952ed"
      },
      "outputs": [
        {
          "output_type": "stream",
          "name": "stdout",
          "text": [
            "10\t20\t30\t"
          ]
        }
      ],
      "source": [
        "mylst = [10, 20 , 30]\n",
        "myiter = iter(mylst)\n",
        "for v in myiter:\n",
        "    print (v, end='\\t')"
      ]
    },
    {
      "cell_type": "markdown",
      "metadata": {
        "id": "xARcZQSc89gV"
      },
      "source": [
        "<style>\n",
        "\th5 {\n",
        "\t\tbackground-color: black;\n",
        "\t\tcolor: white;\n",
        "\t\tborder: 1px solid grey;\n",
        "\t\tfont-size: 30px;\n",
        "\t}\n",
        "\tp {\n",
        "\t\tbackground-color: #336666;\n",
        "\t\tcolor: white;\n",
        "\t\tborder: 1px solid grey;\n",
        "\t\tfont-size: 24;\n",
        "\t}\n",
        "</style>\n",
        "##### while loop"
      ]
    },
    {
      "cell_type": "code",
      "execution_count": 43,
      "metadata": {
        "colab": {
          "base_uri": "https://localhost:8080/"
        },
        "id": "Gj4OWg4U89gW",
        "outputId": "28c7500e-a68e-4ebd-ca6c-7d3bf2e3f8a9"
      },
      "outputs": [
        {
          "output_type": "stream",
          "name": "stdout",
          "text": [
            "10\t20\t30\t"
          ]
        }
      ],
      "source": [
        "mylst = [10, 20, 30]\n",
        "iter_obj = iter(mylst)\n",
        "while True:\n",
        "    try:\n",
        "        print (next(iter_obj), end= '\\t')\n",
        "    except StopIteration:\n",
        "        break\n"
      ]
    },
    {
      "cell_type": "markdown",
      "metadata": {
        "id": "W-fkMVN889gW"
      },
      "source": [
        "### Compare two loop structures. What is the difference between two loops to use the iterator for traversing all the elements in the list?\n",
        "The main difference between the two loop structures is that the for loop handles the iterator and StopIteration automatically, making the code simpler and easier to read. The while True loop with try-except requires manual handling of the StopIteration exception, giving you more control but also adding complexity."
      ]
    },
    {
      "cell_type": "markdown",
      "metadata": {
        "id": "qOVnv1Ta89gW"
      },
      "source": [
        "***"
      ]
    },
    {
      "cell_type": "markdown",
      "metadata": {
        "id": "LeUcNmH489gW"
      },
      "source": [
        "<style>\n",
        "\th1 {\n",
        "\t\tbackground-color: grey;\n",
        "\t\tcolor: Yellow;\n",
        "\t\tborder: 3px solid grey;\n",
        "\t\tfont-size: xx-large;\n",
        "\t}\n",
        "\tp {\n",
        "\t\tbackground-color: grey;\n",
        "\t\tcolor: white;\n",
        "\t\tfont-size: 24px;\n",
        "\t\tborder: 3px solid grey;\n",
        "\t}\n",
        "</style>\n",
        "# <h1 font-size:40px> 6.2 Generator </h1>\n",
        "\n",
        "\n",
        "## Concepts of Generator\n",
        "<p>\n",
        "A generator in Python is a special type of iterator that allows you to iterate over a sequence of values lazily, meaning it generates values on the fly and only when needed. <br> This makes generators memory-efficient, especially when dealing with large datasets, because they do not require all the values to be stored in memory at once.\n",
        "</p>"
      ]
    },
    {
      "cell_type": "markdown",
      "metadata": {
        "id": "kvMCQKn_89gW"
      },
      "source": [
        "***\n",
        "#### <p style=\"font-family: Arial; font-size:1.4em; background-color: yellow; color:black;\"> Problem #6.3 </p>\n",
        "\n",
        "<style>\n",
        "\tp {\n",
        "\t\tbackground-color: black;\n",
        "\t\tcolor: white;\n",
        "\t\tborder: 1px solid grey;\n",
        "\t\tfont-size: 30px;\n",
        "\t}\n",
        "</style>\n",
        "<p> Run the following code cells and answer the questions </p>  \n"
      ]
    },
    {
      "cell_type": "markdown",
      "metadata": {
        "id": "gsd_amU389gX"
      },
      "source": [
        "#### Run this code and check out the output. Show the type of \"gen\"\n",
        "```\n",
        "def mygen():\n",
        "    yield 1\n",
        "\n",
        "gen = mygen()\n",
        "print (type(gen))\n",
        "```\n",
        "The type of gen is generator\n",
        "\n",
        "\n",
        "***"
      ]
    },
    {
      "cell_type": "markdown",
      "metadata": {
        "id": "SumN05z189gX"
      },
      "source": [
        "#### Run this code and check out the output. What are the value from \"next(gen)\"?\n",
        "```\n",
        "def mygen():\n",
        "    yield 10\n",
        "    yield 20\n",
        "    yield 30\n",
        "\n",
        "gen = mygen()\n",
        "print (next(gen))\n",
        "print (next(gen))\n",
        "print (next(gen))\n",
        "```\n",
        "10, 20, 30\n",
        "\n",
        "\n",
        "***"
      ]
    },
    {
      "cell_type": "markdown",
      "metadata": {
        "id": "2S1kImaw89gX"
      },
      "source": [
        "#### Run this code and check out the output. What are the value from \"next(gen)\"?\n",
        "```\n",
        "def mygen():\n",
        "    yield 10\n",
        "    yield 20\n",
        "    yield 30\n",
        "\n",
        "gen = mygen()\n",
        "for v in gen:\n",
        "    print (v, end='\\t')\n",
        "```\n",
        "10, 20, 30\n",
        "\n",
        "\n",
        "***"
      ]
    },
    {
      "cell_type": "markdown",
      "metadata": {
        "id": "f0LwwZ7I89gX"
      },
      "source": [
        "#### Run this code and check out the output. What is the value of the last next(gen) ?\n",
        "```\n",
        "def mygen():\n",
        "    yield 10\n",
        "    yield 20\n",
        "    yield 30\n",
        "\n",
        "gen = mygen()\n",
        "while True:\n",
        "    try:\n",
        "        print (next(gen))\n",
        "    except StopIteration:\n",
        "        break\n",
        "```\n",
        "30\n",
        "\n",
        "\n",
        "***"
      ]
    },
    {
      "cell_type": "markdown",
      "metadata": {
        "id": "ZWy74BUf89gX"
      },
      "source": [
        "<style>\n",
        "\th1 {\n",
        "\t\tbackground-color: grey;\n",
        "\t\tcolor: Yellow;\n",
        "\t\tborder: 3px solid grey;\n",
        "\t\tfont-size: xx-large;\n",
        "\t}\n",
        "\tp {\n",
        "\t\tbackground-color: grey;\n",
        "\t\tcolor: white;\n",
        "\t\tfont-size: 24px;\n",
        "\t\tborder: 3px solid grey;\n",
        "\t}\n",
        "</style>\n",
        "# <h1 font-size:40px> 6.3 yield </h1>\n",
        "\n",
        "\n",
        "## yield statement\n",
        "<p>\n",
        "yield is a keyword used in a function to turn it into a generator. When a function contains a yield statement, it does not execute like a normal function. Instead, it returns a generator object that can be iterated over.\n",
        "</p>"
      ]
    },
    {
      "cell_type": "markdown",
      "metadata": {
        "id": "h40ex6uZ89gX"
      },
      "source": [
        "***\n",
        "#### <p style=\"font-family: Arial; font-size:1.4em; background-color: yellow; color:black;\"> Problem #6.4 </p>\n",
        "\n",
        "<style>\n",
        "\tp {\n",
        "\t\tbackground-color: black;\n",
        "\t\tcolor: white;\n",
        "\t\tborder: 1px solid grey;\n",
        "\t\tfont-size: 30px;\n",
        "\t}\n",
        "</style>\n",
        "<p> Run the following code cells and answer the questions </p>  \n"
      ]
    },
    {
      "cell_type": "markdown",
      "metadata": {
        "id": "Th5GxUbe89gY"
      },
      "source": [
        "<style>\n",
        "\tp {\n",
        "\t\t--background-color: grey;\n",
        "\t\tcolor: white;\n",
        "\t\tborder: 3px solid grey\n",
        "\n",
        "\t}\n",
        "</style>\n",
        "\n",
        "<p> Example of yield statement </p>\n",
        "<p> Make a function to return the even number in the list </p>\n",
        "\n"
      ]
    },
    {
      "cell_type": "code",
      "execution_count": 44,
      "metadata": {
        "colab": {
          "base_uri": "https://localhost:8080/"
        },
        "id": "dQaVCkpB89gY",
        "outputId": "d26a1dd9-606b-41ec-de97-39c0ea71f977"
      },
      "outputs": [
        {
          "output_type": "stream",
          "name": "stdout",
          "text": [
            "0 --\n",
            "2\n",
            "4\n",
            "6\n",
            "8\n"
          ]
        }
      ],
      "source": [
        "def findEvenNumber(lst):\n",
        "\tfor v in lst:\n",
        "\t\tif ( v % 2 == 0):\n",
        "\t\t\tyield v\n",
        "\n",
        "def main():\n",
        "\tmygen = findEvenNumber(range(10))\n",
        "\tval = next(mygen)\n",
        "\tprint (val, '--')\n",
        "\tfor val in mygen:\n",
        "\t\tprint (val)\n",
        "\n",
        "if __name__ == '__main__':\n",
        "\tmain()"
      ]
    },
    {
      "cell_type": "markdown",
      "metadata": {
        "id": "9NeI6Dkh89gY"
      },
      "source": [
        "<style>\n",
        "\tp {\n",
        "\t\t--background-color: grey;\n",
        "\t\tcolor: white;\n",
        "\t\tborder: 3px solid grey\n",
        "\n",
        "\t}\n",
        "</style>\n",
        "\n",
        "<p> Make a function to return the generator for the Fibonacci number </p>\n",
        "\n"
      ]
    },
    {
      "cell_type": "code",
      "execution_count": 45,
      "metadata": {
        "colab": {
          "base_uri": "https://localhost:8080/"
        },
        "id": "Pxb3S4zd89gY",
        "outputId": "5d712089-f65b-464d-be9e-b936fdcdefc5"
      },
      "outputs": [
        {
          "output_type": "stream",
          "name": "stdout",
          "text": [
            "0\n",
            "1\n"
          ]
        }
      ],
      "source": [
        "\n",
        "def fibo(N):\n",
        "\tn1, n2 = 0, 1\n",
        "\ti = 0\n",
        "\twhile ( i <= N):\n",
        "\t\tyield n1\n",
        "\t\tn3 = n1 + n2\n",
        "\t\tn1 = n2\n",
        "\t\tn2 = n3\n",
        "\t\ti += 1\n",
        "\n",
        "gen = fibo(1)\n",
        "for v in gen:\n",
        "\tprint (v)\n"
      ]
    },
    {
      "cell_type": "markdown",
      "metadata": {
        "id": "yhKNzZwj89gY"
      },
      "source": [
        "<style>\n",
        "\th1 {\n",
        "\t\tbackground-color: grey;\n",
        "\t\tcolor: Yellow;\n",
        "\t\tborder: 3px solid grey;\n",
        "\t\t-- font-size: xx-large;\n",
        "\t}\n",
        "\tp {\n",
        "\t\tbackground-color: grey;\n",
        "\t\tcolor: white;\n",
        "\t\tborder: 3px solid grey;\n",
        "\t\tfont-size: xx-large\n",
        "\t}\n",
        "</style>\n",
        "<p> Example: yield </p>\n"
      ]
    },
    {
      "cell_type": "code",
      "execution_count": 46,
      "metadata": {
        "colab": {
          "base_uri": "https://localhost:8080/"
        },
        "id": "GNHAHnLg89gY",
        "outputId": "509d7ab0-4520-4f1b-fb49-af9a18de8da2"
      },
      "outputs": [
        {
          "output_type": "stream",
          "name": "stdout",
          "text": [
            "P, y, t, h, n,  , P, r, g, r, m, m, n, g, "
          ]
        }
      ],
      "source": [
        "\n",
        "def consonant(string):\n",
        "\tvowels = ['a', 'e', 'i','o', 'u']\n",
        "\tfor v in string:\n",
        "\t\tif v not in vowels:\n",
        "\t\t\tyield v\n",
        "\n",
        "\n",
        "strval = 'Python Programming'\n",
        "for v in consonant(strval):\n",
        "\tprint (v, end=', ' )"
      ]
    },
    {
      "cell_type": "markdown",
      "metadata": {
        "id": "de-K892-89gZ"
      },
      "source": [
        "<style>\n",
        "\tp {\n",
        "\t\tbackground-color: black;\n",
        "\t\tcolor: white;\n",
        "\t\tborder: 1px solid grey;\n",
        "\t\tfont-size: 30px;\n",
        "\t}\n",
        "</style>\n",
        "#### <p style=\"font-family: Arial; font-size:1.4em; background-color: yellow; color:black;\"> Problem #6.5 </p>\n",
        "\n",
        "<p> Make a function to return the generator containing the first half of the list\n"
      ]
    },
    {
      "cell_type": "code",
      "execution_count": 47,
      "metadata": {
        "colab": {
          "base_uri": "https://localhost:8080/"
        },
        "id": "J_csjHkd89gZ",
        "outputId": "99737d4d-dd81-4ee1-95bc-b4c1eb1d5526"
      },
      "outputs": [
        {
          "output_type": "stream",
          "name": "stdout",
          "text": [
            "1\t2\t3\t4\t5\t"
          ]
        }
      ],
      "source": [
        "def halfoflist(mylst):\n",
        "    # complete your code\n",
        "    # return the generator that contains the first half of the list\n",
        "    half_length = len(mylst) // 2\n",
        "    for i in range(half_length):\n",
        "      yield mylst[i]\n",
        "def main():\n",
        "    numbers = [1,2,3,4,5,6,7,8,9,10]\n",
        "    mygen = halfoflist(numbers)\n",
        "\n",
        "    for v in mygen:\n",
        "        print (v, end ='\\t')\n",
        "\n",
        "if __name__ == '__main__':\n",
        "    main()\n"
      ]
    },
    {
      "cell_type": "markdown",
      "metadata": {
        "id": "1m2JzACW89gZ"
      },
      "source": [
        "***\n",
        "#### <p style=\"font-family: Arial; font-size:1.4em; background-color: yellow; color:black;\"> Problem #6.6 </p>\n",
        "\n",
        "<style>\n",
        "\tp {\n",
        "\t\tbackground-color: black;\n",
        "\t\tcolor: white;\n",
        "\t\tborder: 1px solid grey;\n",
        "\t\tfont-size: 30px;\n",
        "\t}\n",
        "</style>\n",
        "<p> Make a function that returns the generator containing elements greater than their immediate left. </p>\n",
        "- Example numbers = [1, 3, 2, 4, 5, 0] <br>\n",
        "- Generator for [3,4,5]\n"
      ]
    },
    {
      "cell_type": "code",
      "execution_count": 49,
      "metadata": {
        "colab": {
          "base_uri": "https://localhost:8080/"
        },
        "id": "pStFLanv89gZ",
        "outputId": "4182cef8-06ba-4930-994a-dc97c124da83"
      },
      "outputs": [
        {
          "output_type": "stream",
          "name": "stdout",
          "text": [
            "3\t4\t5\t"
          ]
        }
      ],
      "source": [
        "### Code your program here\n",
        "def greaterThanLeft(mylst):\n",
        "  for i in range(1, len(mylst)):\n",
        "    if mylst[i] > mylst[i - 1]:\n",
        "      yield mylst[i]\n",
        "\n",
        "def main():\n",
        "  numbers = [1, 3, 2, 4, 5, 0]\n",
        "  mygen = greaterThanLeft(numbers)\n",
        "\n",
        "  for v in mygen:\n",
        "    print(v, end='\\t')\n",
        "\n",
        "if __name__ == '__main__':\n",
        "  main()"
      ]
    },
    {
      "cell_type": "markdown",
      "metadata": {
        "id": "drzsUfgy89gZ"
      },
      "source": [
        "<style>\n",
        "\th1 {\n",
        "\t\tbackground-color: grey;\n",
        "\t\tcolor: Yellow;\n",
        "\t\tborder: 3px solid grey;\n",
        "\t\tfont-size: 60px;\n",
        "\t}\n",
        "\tp {\n",
        "\t\tbackground-color: grey;\n",
        "\t\tcolor: white;\n",
        "\t\tfont-size: 20px;\n",
        "\t\tborder: 3px solid grey;\n",
        "\t}\n",
        "</style>\n",
        "# <h1 font-size:60px> 6.4 lambda </h1>\n",
        "\n",
        "\n",
        "## Lambda Function\n",
        "<p>\n",
        "A lambda function in Python is a small, anonymous function defined with the lambda keyword. Unlike a regular function that is defined using the def keyword, a lambda function can have any number of arguments but only one expression. The result of that expression is implicitly returned.\n",
        "</p>\n",
        "\n",
        "Syntax <br>\n",
        "<code>\n",
        "lambda arguments: expression <br>\n",
        "\n",
        "Code Example: <br>\n",
        "<code>\n",
        "add_ten = lambda x: x + 10 <br>\n",
        "print(add_ten(5))  # Output: 15\n"
      ]
    },
    {
      "cell_type": "markdown",
      "metadata": {
        "id": "fwiCPFLu89gZ"
      },
      "source": [
        "***\n",
        "<style>\n",
        "\tp {\n",
        "\t\tbackground-color: black;\n",
        "\t\tcolor: white;\n",
        "\t\tborder: 1px solid grey;\n",
        "\t\tfont-size: 30px;\n",
        "\t}\n",
        "</style>\n",
        "<p> Run the following code cells and check out the results </p>  \n"
      ]
    },
    {
      "cell_type": "markdown",
      "metadata": {
        "id": "H33jsn7G89ga"
      },
      "source": [
        "#### Lambda Function Example: Add 10"
      ]
    },
    {
      "cell_type": "code",
      "execution_count": 50,
      "metadata": {
        "colab": {
          "base_uri": "https://localhost:8080/"
        },
        "id": "2bt4oX8Z89ga",
        "outputId": "c3c2871f-e40b-46a1-b9bf-a4c2f6714723"
      },
      "outputs": [
        {
          "output_type": "stream",
          "name": "stdout",
          "text": [
            "30\n"
          ]
        }
      ],
      "source": [
        "\n",
        "lfn = lambda x : x + 10\n",
        "\n",
        "a = lfn(20)\n",
        "print (a)"
      ]
    },
    {
      "cell_type": "markdown",
      "metadata": {
        "id": "9ec4O6y-89ga"
      },
      "source": [
        "### Lambda that returns x squared"
      ]
    },
    {
      "cell_type": "code",
      "execution_count": 51,
      "metadata": {
        "colab": {
          "base_uri": "https://localhost:8080/"
        },
        "id": "DElbDHc389ga",
        "outputId": "3e160b3f-2e3c-404b-940c-755bb9a73f64"
      },
      "outputs": [
        {
          "output_type": "stream",
          "name": "stdout",
          "text": [
            "100\n"
          ]
        }
      ],
      "source": [
        "squared = lambda x : x * x\n",
        "\n",
        "print (squared(10))"
      ]
    },
    {
      "cell_type": "markdown",
      "metadata": {
        "id": "W7ZVLvgD89ga"
      },
      "source": [
        "### Lambda that returns a boolean as a result of x > y"
      ]
    },
    {
      "cell_type": "code",
      "execution_count": 52,
      "metadata": {
        "colab": {
          "base_uri": "https://localhost:8080/"
        },
        "id": "-3bxRAKt89ga",
        "outputId": "d0d9a660-3c7a-4910-dbcd-3a28949f321c"
      },
      "outputs": [
        {
          "output_type": "stream",
          "name": "stdout",
          "text": [
            "False\n",
            "True\n"
          ]
        }
      ],
      "source": [
        "greater = lambda x, y : x > y\n",
        "\n",
        "print (greater(10, 20))\n",
        "print (greater(20, 10))\n"
      ]
    },
    {
      "cell_type": "markdown",
      "metadata": {
        "id": "G8xHqdMR89gb"
      },
      "source": [
        "### Function that returns a lambda"
      ]
    },
    {
      "cell_type": "code",
      "execution_count": 53,
      "metadata": {
        "colab": {
          "base_uri": "https://localhost:8080/"
        },
        "id": "Gfwo0E2N89gb",
        "outputId": "caed6e0b-e3a4-43ca-fd0a-3209f9b66dd2"
      },
      "outputs": [
        {
          "output_type": "stream",
          "name": "stdout",
          "text": [
            "200\n",
            "400\n"
          ]
        }
      ],
      "source": [
        "def retlam( value):\n",
        "\treturn lambda parameter : parameter * value\n",
        "\n",
        "mylambda = retlam(10)\n",
        "print (mylambda(20))\n",
        "\n",
        "mylambda = retlam(20)\n",
        "print (mylambda(20))"
      ]
    },
    {
      "cell_type": "markdown",
      "metadata": {
        "id": "1mvTCQux89gb"
      },
      "source": [
        "### Lambda Examples"
      ]
    },
    {
      "cell_type": "code",
      "execution_count": 54,
      "metadata": {
        "colab": {
          "base_uri": "https://localhost:8080/"
        },
        "id": "d-VfEQG789gb",
        "outputId": "7b404afa-afa3-4f66-8159-51e0eba3e62d"
      },
      "outputs": [
        {
          "output_type": "stream",
          "name": "stdout",
          "text": [
            "[15, 9, 34, 52, 100]\n",
            "52\n",
            "100\n"
          ]
        }
      ],
      "source": [
        "import random\n",
        "\n",
        "lst = [ random.randint(0,100) for i in range(5)]\n",
        "print (lst)\n",
        "\n",
        "fmin = lambda x : (v for v in x if v > 50)\n",
        "\n",
        "for v in fmin(lst):\n",
        "\tprint (v)"
      ]
    },
    {
      "cell_type": "code",
      "execution_count": 55,
      "metadata": {
        "colab": {
          "base_uri": "https://localhost:8080/"
        },
        "id": "bWhsN1Ub89gb",
        "outputId": "e1095f47-8254-4e1b-c732-f037b8bcaae8"
      },
      "outputs": [
        {
          "output_type": "stream",
          "name": "stdout",
          "text": [
            "20\n"
          ]
        }
      ],
      "source": [
        "gr = lambda x,y: x if x > y else y\n",
        "print (gr(10,20))\n"
      ]
    },
    {
      "cell_type": "code",
      "execution_count": 56,
      "metadata": {
        "colab": {
          "base_uri": "https://localhost:8080/"
        },
        "id": "7wmzPjD689gb",
        "outputId": "e6a5dbb4-e739-485c-a397-2efa88644f35"
      },
      "outputs": [
        {
          "output_type": "stream",
          "name": "stdout",
          "text": [
            "10\n",
            "5\n"
          ]
        }
      ],
      "source": [
        "total = 0\n",
        "def addValue(value):\n",
        "\tglobal total\n",
        "\ttotal += value\n",
        "\treturn total\n",
        "def subtractValue(value):\n",
        "\tglobal total\n",
        "\ttotal -= value\n",
        "\treturn total\n",
        "\n",
        "mylambda = lambda x, f: f(x)\n",
        "\n",
        "\n",
        "print (mylambda(10, addValue))\n",
        "print (mylambda(5, subtractValue))\n",
        "\n"
      ]
    },
    {
      "cell_type": "markdown",
      "metadata": {
        "id": "VNIFHZSb89gc"
      },
      "source": [
        "***\n",
        "#### <p style=\"font-family: Arial; font-size:1.4em; background-color: yellow; color:black;\"> Problem #6.7 </p>\n",
        "\n",
        "<style>\n",
        "\tp {\n",
        "\t\tbackground-color: black;\n",
        "\t\tcolor: white;\n",
        "\t\tborder: 1px solid grey;\n",
        "\t\tfont-size: 30px;\n",
        "\t}\n",
        "</style>\n",
        "<p> Make a Lamba function that returns the average of the list element values </p>\n",
        "- Example numbers = [1, 3, 2, 4, 5, 0] <br>\n",
        "- listavg = getavg(numbers)  # It should be 2.5\n"
      ]
    },
    {
      "cell_type": "code",
      "execution_count": 57,
      "metadata": {
        "colab": {
          "base_uri": "https://localhost:8080/"
        },
        "id": "V4e4h3C_89gc",
        "outputId": "f9992229-13e2-4c31-9d89-c62439b5f029"
      },
      "outputs": [
        {
          "output_type": "stream",
          "name": "stdout",
          "text": [
            "5.5\n"
          ]
        }
      ],
      "source": [
        "# Complete your code Here. Lambda Function\n",
        "getavg = lambda lst: sum(lst) / len(lst)\n",
        "\n",
        "numbers = [1,2,3,4,5,6,7,8,9,10]\n",
        "result = getavg(numbers)\n",
        "print(result)"
      ]
    },
    {
      "cell_type": "markdown",
      "metadata": {
        "id": "wIbT2y4Y89gc"
      },
      "source": [
        "***\n",
        "#### <p style=\"font-family: Arial; font-size:1.4em; background-color: yellow; color:black;\"> Problem #6.8 </p>\n",
        "\n",
        "<style>\n",
        "\tp {\n",
        "\t\tbackground-color: black;\n",
        "\t\tcolor: white;\n",
        "\t\tborder: 1px solid grey;\n",
        "\t\tfont-size: 30px;\n",
        "\t}\n",
        "</style>\n",
        "<p> Make a Lamba function that returns all the elment that are greater than the immediate right </p>\n",
        "- Example numbers = [1, 3, 2, 4, 5, 0] <br>\n",
        "- listavg = greaterRight(numbers)  # 3, 5\n"
      ]
    },
    {
      "cell_type": "code",
      "execution_count": 58,
      "metadata": {
        "colab": {
          "base_uri": "https://localhost:8080/"
        },
        "id": "4W_zdToX89gc",
        "outputId": "dd3b9afd-a8ee-4c2d-ae52-9abf4e4809c8"
      },
      "outputs": [
        {
          "output_type": "stream",
          "name": "stdout",
          "text": [
            "[3, 5]\n"
          ]
        }
      ],
      "source": [
        "getGreater = lambda lst: [lst[i] for i in range(len(lst) - 1) if lst[i] > lst[i + 1]]\n",
        "\n",
        "numbers = [1,3,2,4,5,0]\n",
        "result = getGreater(numbers)\n",
        "print(result)"
      ]
    },
    {
      "cell_type": "markdown",
      "metadata": {
        "id": "1vVyPKnC89gc"
      },
      "source": [
        "***\n",
        "#### <p style=\"font-family: Arial; font-size:1.4em; background-color: yellow; color:black;\"> Problem #6.9 </p>\n",
        "\n",
        "<style>\n",
        "\tp {\n",
        "\t\tbackground-color: black;\n",
        "\t\tcolor: white;\n",
        "\t\tborder: 1px solid grey;\n",
        "\t\tfont-size: 30px;\n",
        "\t}\n",
        "</style>\n",
        "<p> Make a Lamba function that recevies two lists and determine the longer list. Return the longer list </p>\n",
        "- Example n1 = [1, 3, 2, 4, 5, 0] n2 = [1,2,3]<br>\n",
        "- longerlst = compareTwoList(n1, n2)  # Return n1\n"
      ]
    },
    {
      "cell_type": "code",
      "execution_count": 59,
      "metadata": {
        "colab": {
          "base_uri": "https://localhost:8080/"
        },
        "id": "DgVxWw1b89gc",
        "outputId": "8b7ebed5-3654-46f1-dcc4-dbf0835f953c"
      },
      "outputs": [
        {
          "output_type": "stream",
          "name": "stdout",
          "text": [
            "[1, 3, 2, 4, 5, 0]\n"
          ]
        }
      ],
      "source": [
        "compareTwoList = lambda l1, l2: l1 if len(l1) > len(l2) else l2\n",
        "\n",
        "n1 = [1,3,2,4,5,0]\n",
        "n2 = [1,2,3]\n",
        "\n",
        "longer = compareTwoList(n1, n2)\n",
        "print (longer)"
      ]
    },
    {
      "cell_type": "code",
      "source": [],
      "metadata": {
        "id": "uHplrcWxZJKG"
      },
      "execution_count": null,
      "outputs": []
    }
  ],
  "metadata": {
    "kernelspec": {
      "display_name": "Python 3.9.13 ('base')",
      "language": "python",
      "name": "python3"
    },
    "language_info": {
      "codemirror_mode": {
        "name": "ipython",
        "version": 3
      },
      "file_extension": ".py",
      "mimetype": "text/x-python",
      "name": "python",
      "nbconvert_exporter": "python",
      "pygments_lexer": "ipython3",
      "version": "3.9.17"
    },
    "orig_nbformat": 4,
    "vscode": {
      "interpreter": {
        "hash": "32cd87c0c55905266dc8232ebf1148f668af0d9324249c125246585210a29cd6"
      }
    },
    "colab": {
      "provenance": [],
      "include_colab_link": true
    }
  },
  "nbformat": 4,
  "nbformat_minor": 0
}