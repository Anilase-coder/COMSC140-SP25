{
  "cells": [
    {
      "cell_type": "markdown",
      "metadata": {
        "id": "view-in-github",
        "colab_type": "text"
      },
      "source": [
        "<a href=\"https://colab.research.google.com/github/Anilase-coder/COMSC140-SP25/blob/main/ch7part1.ipynb\" target=\"_parent\"><img src=\"https://colab.research.google.com/assets/colab-badge.svg\" alt=\"Open In Colab\"/></a>"
      ]
    },
    {
      "cell_type": "markdown",
      "metadata": {
        "id": "PO8chGL2Z5fA"
      },
      "source": [
        "<style>\n",
        "\th1 {\n",
        "\t--\tbackground-color: grey;\n",
        "\t\tcolor: yellow\n",
        "\t\tborder: 3px solid grey\n",
        "\n",
        "\t}\n",
        "\tp {\n",
        "\t\tbackground-color: grey;\n",
        "\t\tcolor: white\n",
        "\t\tborder: 3px solid grey\n",
        "\n",
        "\t}\n",
        "</style>\n",
        "<h1> Chapter 7 List: Part 1</h1>"
      ]
    },
    {
      "cell_type": "markdown",
      "metadata": {
        "id": "ltwZddZMZ5fB"
      },
      "source": [
        "<p style=\"margin-left:40px\"> 7.1 Basic Examples of List</p>\n",
        "\n",
        "<p style=\"margin-left:40px\"> 7.2 Understanding the \"Mutable Data Type\" </p>\n",
        "\n",
        "<p style=\"margin-left:40px\"> 7.3 Handing the list index out of range error </p>\n",
        "\n",
        "<p style=\"margin-left:40px\"> 7.4 List of List </p>\n",
        "\n",
        "<p style=\"margin-left:40px\"> 7.5 any() and all() </p>\n"
      ]
    },
    {
      "cell_type": "markdown",
      "metadata": {
        "id": "icqF0fzQZ5fB"
      },
      "source": [
        "***\n",
        "\n",
        "## <p style=\"background-color: grey; color: white \"> ◼️  List </p>\n",
        "# <p style=\"font-family: Arial; font-size:1.4em;color:red;\"> 1. Basic Examples of List</p>\n"
      ]
    },
    {
      "cell_type": "markdown",
      "metadata": {
        "id": "lCmbrGLUZ5fC"
      },
      "source": [
        "<style>\n",
        "\th3{\n",
        "\t\tbackground-color: grey\n",
        "\t\tcolor: white\n",
        "\t}\n",
        "</style>\n",
        "\n",
        "<h1> Understanding the \"Mutable Data Type\"  </h1>\n",
        "\n",
        "- Run all the following code cells and check out the result of code segments"
      ]
    },
    {
      "cell_type": "markdown",
      "metadata": {
        "id": "QRL66W-8Z5fC"
      },
      "source": [
        "#### <p style=\"font-family: Arial; font-size:1.4em; background-color: yellow; color:black;\"> Problem #1.0 </p>\n",
        "\n",
        "#### Run all the cells and figure out the Mutal Data Type"
      ]
    },
    {
      "cell_type": "markdown",
      "metadata": {
        "id": "U0fVd1PRZ5fD"
      },
      "source": [
        "### What is the value of numbers1 after run the following code cell?"
      ]
    },
    {
      "cell_type": "code",
      "execution_count": 1,
      "metadata": {
        "colab": {
          "base_uri": "https://localhost:8080/"
        },
        "id": "PBHidn_3Z5fD",
        "outputId": "730fa733-e70c-4631-f3c3-4bc1aa473dd3"
      },
      "outputs": [
        {
          "output_type": "execute_result",
          "data": {
            "text/plain": [
              "[6, 7]"
            ]
          },
          "metadata": {},
          "execution_count": 1
        }
      ],
      "source": [
        "numbers1 = [1,2,3,4,5,6,7]\n",
        "numbers2 = numbers1\n",
        "\n",
        "del numbers2[:5]\n",
        "\n",
        "numbers1"
      ]
    },
    {
      "cell_type": "markdown",
      "metadata": {
        "id": "0vlczm82Z5fE"
      },
      "source": [
        "#### <p style=\"font-family: Arial; font-size:1.4em; background-color: yellow; color:black;\"> Problem #1.1 </p>\n",
        "\n",
        "#### Figure out the difference between the following two code segments\n",
        "\n",
        "#### The first code segment:\n",
        "- the number is integer value in the function.\n",
        "- The value of the number is changed by the function\n",
        "- Check the value in the caller function main()\n",
        "- The change of the value of the number is not reflected in the caller function\n",
        "\n",
        "#### The second code segment:\n",
        "- The list is a mutable data type\n",
        "- The value of the list is changed by the function\n",
        "- Check the value in the caller function main()\n",
        "- The change of the value of the list is reflected in the caller function\n",
        "\n",
        "## Explain the output of the following code segments. <br> Elaborate the reason why the output is as such."
      ]
    },
    {
      "cell_type": "code",
      "execution_count": null,
      "metadata": {
        "id": "GGGIqx76Z5fE"
      },
      "outputs": [],
      "source": [
        "def myfuntion(number):\n",
        "    number = 100\n",
        "\n",
        "number = -1\n",
        "myfuntion(number)\n",
        "print ('number in main():', number)\n",
        "# number in main(): -1. Change of the value of the number is not reflected in the caller function"
      ]
    },
    {
      "cell_type": "markdown",
      "source": [
        "- The output is an integer, which is an immutable type in Python\n",
        "- When myfuntion(number) is called, the value -1 is passed by value, not by reference\n",
        "- Inside myfuntion, changing number to 100 only changes the local copy\n",
        "- The original variable in main() is unchanged"
      ],
      "metadata": {
        "id": "efI2-CHia9t9"
      }
    },
    {
      "cell_type": "code",
      "execution_count": null,
      "metadata": {
        "id": "KEbaO-4mZ5fF"
      },
      "outputs": [],
      "source": [
        "def myfunction(numbers):\n",
        "    numbers[0] = 100\n",
        "\n",
        "numbers = [-1]\n",
        "myfunction(numbers)\n",
        "print ('numbers in main():', numbers)\n",
        "# numbers in main(): [100]. Change of the value of the list is reflected in the caller function\n"
      ]
    },
    {
      "cell_type": "markdown",
      "source": [
        "- numbers is a list, which is a mutable type\n",
        "- when passed into myfunction, both main() and the function share a reference to the same list object in memory\n",
        "- numbers[0] = 100 directly changes the content of the original list\n",
        "- so the change is reflected in the caller"
      ],
      "metadata": {
        "id": "voGlyBoPbeMz"
      }
    },
    {
      "cell_type": "markdown",
      "metadata": {
        "id": "6b9-TmhMZ5fF"
      },
      "source": [
        "#### <p style=\"font-family: Arial; font-size:1.4em; background-color: yellow; color:black;\"> Problem #1.2 </p>\n",
        "\n",
        "#### List the other data types that are working as the same way as the list in the above code segments.\n",
        "### Choose the data types from the following list:\n",
        "- String\n",
        "- Tuple\n",
        "- **Dictionary**\n",
        "- **Set**\n",
        "\n",
        "- int\n",
        "- float\n",
        "- boolean <br>\n",
        "These types (dict and set) will reflect changes when passed into a function, just like lists do.\n",
        "\n"
      ]
    },
    {
      "cell_type": "markdown",
      "metadata": {
        "id": "jdiiTSidZ5fF"
      },
      "source": [
        "#### <p style=\"font-family: Arial; font-size:1.4em; background-color: yellow; color:black;\"> Problem #1.3 </p>\n",
        "\n",
        "#### Review the following methods of the list data type.\n",
        "- append(): adds a single item to the end of the list\n",
        "- extend(): adds each element of an iterable (ex: list, set) to the end of the list\n",
        "- insert(): inserts an item at a specific position\n",
        "- remove():removes the first occurrence of a value\n",
        "- sort(): sorts the list in place in ascending order\n",
        "- reverse(): reverses the list in place\n",
        "- pop(): removes and returns the item at the given index (last by default)\n",
        "- count(): returns the number of times a value appears\n",
        "- index(): returns the first index of the item\n",
        "- copy(): returns a shallow copy of the list\n",
        "- clear(): removes all elements from the list\n",
        "\n",
        "\n"
      ]
    },
    {
      "cell_type": "markdown",
      "metadata": {
        "id": "PZUXNieGZ5fF"
      },
      "source": [
        "## Concatenation of the List\n",
        "```\n",
        "n1 = [1,2,3]\n",
        "n2 = [4,5,6]\n",
        "```\n",
        "\n",
        "### complete your code here to concatenate the two lists"
      ]
    },
    {
      "cell_type": "code",
      "execution_count": 2,
      "metadata": {
        "colab": {
          "base_uri": "https://localhost:8080/"
        },
        "id": "cCqa9XaGZ5fG",
        "outputId": "44595000-03fa-493a-a16a-3d9cfc77ba55"
      },
      "outputs": [
        {
          "output_type": "stream",
          "name": "stdout",
          "text": [
            "[1, 2, 3, 4, 5, 6]\n"
          ]
        }
      ],
      "source": [
        "# your code here\n",
        "n1 = [1, 2, 3]\n",
        "n2 = [4, 5, 6]\n",
        "n1.extend(n2)\n",
        "print(n1)"
      ]
    },
    {
      "cell_type": "markdown",
      "metadata": {
        "id": "hjZXsbciZ5fG"
      },
      "source": [
        "## Sort the list in the descending order\n",
        "```\n",
        "import random\n",
        "numbers = random.sample(range(1,100), 10)\n",
        "print (numbers)\n",
        "```\n",
        "\n",
        "### complete your code here to sort the list in the descending order\n",
        "\n"
      ]
    },
    {
      "cell_type": "code",
      "execution_count": 4,
      "metadata": {
        "colab": {
          "base_uri": "https://localhost:8080/"
        },
        "id": "3MbQBt-9Z5fG",
        "outputId": "09a1517c-c918-4b8b-d99a-ce1db9824d5f"
      },
      "outputs": [
        {
          "output_type": "stream",
          "name": "stdout",
          "text": [
            "Original: [75, 65, 61, 4, 30, 2, 64, 59, 29, 47]\n",
            "Descending: [75, 65, 64, 61, 59, 47, 30, 29, 4, 2]\n"
          ]
        }
      ],
      "source": [
        "import random\n",
        "numbers = random.sample(range(1, 100), 10)\n",
        "print(\"Original:\", numbers)\n",
        "\n",
        "numbers.sort(reverse=True)\n",
        "print(\"Descending:\", numbers)"
      ]
    },
    {
      "cell_type": "markdown",
      "metadata": {
        "id": "qZ5n82gZZ5fG"
      },
      "source": [
        "## Figoure out the difference between the following statements\n",
        "```\n",
        "numbers1 = [1,2,3,4,5,6,7,8,9,10]\n",
        "numbers2 = numbers1\n",
        "numbers3 = number1[:]\n",
        "numbers4 = number1.copy()\n",
        "```\n",
        "\n",
        "### complete your code here to test the above statements\n",
        "### Make some changes to the list numbers1 and check the output of numbers2, numbers3, and numbers4\n",
        "### Elaborate the reason why the output is as such.\n",
        "\n",
        "\n"
      ]
    },
    {
      "cell_type": "code",
      "source": [
        "numbers1 = [1,2,3,4,5,6,7,8,9,10]\n",
        "numbers2 = numbers1\n",
        "numbers3 = numbers1[:]\n",
        "numbers4 = numbers1.copy()\n",
        "\n",
        "numbers1[0] = 100\n",
        "numbers1.append(999)\n",
        "\n",
        "print(\"numbers1:\", numbers1)\n",
        "print(\"numbers2:\", numbers2)\n",
        "print(\"numbers3:\", numbers3)\n",
        "print(\"numbers4:\", numbers4)"
      ],
      "metadata": {
        "colab": {
          "base_uri": "https://localhost:8080/"
        },
        "id": "l__Cdd-vecqK",
        "outputId": "47e0453b-a5fc-47fb-b871-2a9a2ec9e452"
      },
      "execution_count": 7,
      "outputs": [
        {
          "output_type": "stream",
          "name": "stdout",
          "text": [
            "numbers1: [100, 2, 3, 4, 5, 6, 7, 8, 9, 10, 999]\n",
            "numbers2: [100, 2, 3, 4, 5, 6, 7, 8, 9, 10, 999]\n",
            "numbers3: [1, 2, 3, 4, 5, 6, 7, 8, 9, 10]\n",
            "numbers4: [1, 2, 3, 4, 5, 6, 7, 8, 9, 10]\n"
          ]
        }
      ]
    },
    {
      "cell_type": "markdown",
      "metadata": {
        "id": "0ZkgO0XLZ5fG"
      },
      "source": [
        "<mark> Save your file by pressing \"Ctrl+S\" or \"git commit -m \"your message\"\" </mark>"
      ]
    },
    {
      "cell_type": "markdown",
      "metadata": {
        "id": "qiXRxoK-Z5fG"
      },
      "source": [
        "***\n",
        "\n",
        "## <p style=\"background-color: grey; color: white \"> ◼️  List </p>\n",
        "# <p style=\"font-family: Arial; font-size:1.4em;color:red;\"> 2. Understanding the \"Immutable Data Type\" </p>\n"
      ]
    },
    {
      "cell_type": "markdown",
      "metadata": {
        "id": "Ti_YN35nZ5fH"
      },
      "source": [
        "# Object Identity\n",
        "- this specific memory address is what you’ll know as the object’s identity.\n",
        "- This identity is a unique identifier that distinguishes one object from others.\n",
        "- You can use the id() function to find out the identity of an object.\n",
        "\n",
        "\n",
        "\n",
        "\n",
        "\n",
        "\n",
        "\n"
      ]
    },
    {
      "cell_type": "markdown",
      "metadata": {
        "id": "Io9Ai2rAZ5fH"
      },
      "source": [
        "#### <p style=\"font-family: Arial; font-size:1.4em; background-color: yellow; color:black;\"> Problem #2.0 </p>"
      ]
    },
    {
      "cell_type": "markdown",
      "metadata": {
        "id": "f5LSjUreZ5fH"
      },
      "source": [
        "### Even you use the same value, the identity of the object is different.\n",
        "### Because the integer is an immutable data type.\n",
        "\n",
        "#### Run the following code segment and figure out the identity of the object"
      ]
    },
    {
      "cell_type": "code",
      "execution_count": 8,
      "metadata": {
        "colab": {
          "base_uri": "https://localhost:8080/"
        },
        "id": "hx4MkqMSZ5fH",
        "outputId": "391218e0-42cf-4e45-d40e-8d688ca4644a"
      },
      "outputs": [
        {
          "output_type": "execute_result",
          "data": {
            "text/plain": [
              "10751144"
            ]
          },
          "metadata": {},
          "execution_count": 8
        }
      ],
      "source": [
        "num: int = 10\n",
        "\n",
        "id(num)"
      ]
    },
    {
      "cell_type": "code",
      "execution_count": null,
      "metadata": {
        "id": "r0UjUS3wZ5fH"
      },
      "outputs": [],
      "source": [
        "num = 20    # The identity of the object is different even if you use the same variable\n",
        "id(num)"
      ]
    },
    {
      "cell_type": "markdown",
      "source": [
        "- id() returns the unique identity (memory address) of an object\n",
        "- integers are immutable, meaning their value connot be changed in place\n",
        "- so when you do num = 20, you're not changing the existing object, you're creating a new object and binding num to it\n",
        "- therefore, id(num) will return a different number after reassignment"
      ],
      "metadata": {
        "id": "TiEEEw1Dfz2F"
      }
    },
    {
      "cell_type": "markdown",
      "metadata": {
        "id": "azSNTN7JZ5fH"
      },
      "source": [
        "#### <p style=\"font-family: Arial; font-size:1.4em; background-color: yellow; color:black;\"> Problem #2.1 </p>"
      ]
    },
    {
      "cell_type": "markdown",
      "metadata": {
        "id": "IJz4CoJ4Z5fI"
      },
      "source": [
        "### For the list data type, the identity of the object is the same.\n",
        "### Because the list is a mutable data type.\n",
        "\n",
        "#### Run the following code segment and figure out the identity of the list numbers1 and numbers2\n",
        "#### Elaborate the reason why the identity of the list is the same."
      ]
    },
    {
      "cell_type": "code",
      "execution_count": null,
      "metadata": {
        "id": "V9cya_NtZ5fI"
      },
      "outputs": [],
      "source": [
        "numbers1 = [1,2,3]\n",
        "numbers2 = numbers1\n",
        "\n",
        "print (id(numbers1), id(numbers2))\n",
        "# The identity of the object is the same."
      ]
    },
    {
      "cell_type": "markdown",
      "source": [
        "- numbers1 is a list, and lists are mutable\n",
        "- when you assign numbers2 = numbers1, you're not copying the list, you're making numbers2 point to the same object in memory\n",
        "- both variables refer to the same list object, so they share the same identity(id)"
      ],
      "metadata": {
        "id": "bG758ePzgPpz"
      }
    },
    {
      "cell_type": "markdown",
      "metadata": {
        "id": "84wA7-hoZ5fI"
      },
      "source": [
        "#### <p style=\"font-family: Arial; font-size:1.4em; background-color: yellow; color:black;\"> Problem #2.2 </p>"
      ]
    },
    {
      "cell_type": "markdown",
      "metadata": {
        "id": "O0bMuRA6Z5fI"
      },
      "source": [
        "### In function call, the identities of the list are the same.  \n",
        "### Because the list is a mutable data type.\n",
        "```\n",
        "def myfunction(numbers):\n",
        "    numbers[0] = 100\n",
        "\n",
        "numbers = [1,2,3]\n",
        "myfunction(numbers)\n",
        "print (numbers)\n",
        "```\n",
        "### The identity of the list is the same.\n",
        "\n",
        "Make the code segment to show the identity of the list is the same.\n",
        "\n",
        "- Elaborate the reason why the identity of the list is the same.\n",
        "\n"
      ]
    },
    {
      "cell_type": "code",
      "execution_count": 10,
      "metadata": {
        "colab": {
          "base_uri": "https://localhost:8080/"
        },
        "id": "A9nCGx06Z5fI",
        "outputId": "1fa1c372-9822-438c-f540-c840160dbef3"
      },
      "outputs": [
        {
          "output_type": "stream",
          "name": "stdout",
          "text": [
            "ID in main (before function call): 134623688252608\n",
            "ID inside function (before modification): 134623688252608\n",
            "ID inside function (after modification): 134623688252608\n",
            "ID in main (afterfunction call): 134623688252608\n",
            "Modified list: [100, 2, 3]\n"
          ]
        }
      ],
      "source": [
        "# Complete the above code segment to show the identity of the list is the same.\n",
        "def myfunction(numbers):\n",
        "  print(\"ID inside function (before modification):\", id(numbers))\n",
        "  numbers[0] = 100\n",
        "  print(\"ID inside function (after modification):\", id(numbers))\n",
        "\n",
        "numbers = [1, 2, 3]\n",
        "print(\"ID in main (before function call):\", id(numbers))\n",
        "\n",
        "myfunction(numbers)\n",
        "\n",
        "print(\"ID in main (afterfunction call):\", id(numbers))\n",
        "print(\"Modified list:\", numbers)"
      ]
    },
    {
      "cell_type": "markdown",
      "metadata": {
        "id": "9HEpclIOZ5fI"
      },
      "source": [
        "<mark> Save your file by pressing \"Ctrl+S\" or \"git commit -m \"your message\"\" </mark>"
      ]
    },
    {
      "cell_type": "markdown",
      "metadata": {
        "id": "SuheM3grZ5fJ"
      },
      "source": [
        "***\n",
        "\n",
        "## <p style=\"background-color: grey; color: white \"> ◼️  List </p>\n",
        "# <p style=\"font-family: Arial; font-size:1.4em;color:red;\"> 3. Handing the list index out of range error </p>\n"
      ]
    },
    {
      "cell_type": "code",
      "source": [],
      "metadata": {
        "id": "Z6lHsjDlhXfK"
      },
      "execution_count": null,
      "outputs": []
    },
    {
      "cell_type": "markdown",
      "metadata": {
        "id": "Fkl9U_v_Z5fJ"
      },
      "source": [
        "#### <p style=\"font-family: Arial; font-size:1.4em; background-color: yellow; color:black;\"> Problem #3.1 </p>"
      ]
    },
    {
      "cell_type": "markdown",
      "metadata": {
        "id": "KUuVW_B9Z5fJ"
      },
      "source": [
        "## [1] Figure out the index error situation"
      ]
    },
    {
      "cell_type": "markdown",
      "metadata": {
        "id": "GsaizgXaZ5fJ"
      },
      "source": [
        "### 1) Error or Not ?\n",
        "\n",
        "```\n",
        "numbers = [1,2,3]\n",
        "numbers[3] = 100\n",
        "```\n",
        "\n",
        "### 2) Error or Not ?\n",
        "```\n",
        "print (numbers[:10])\n",
        "```"
      ]
    },
    {
      "cell_type": "code",
      "execution_count": null,
      "metadata": {
        "id": "QXG5MK4LZ5fJ"
      },
      "outputs": [],
      "source": [
        "# Run the above code segments and figure out the index error situation\n",
        "numbers = [1,2,3]\n",
        "numbers[3] = 100 # Error\n",
        "\n",
        "print (numbers[:10]) # No error"
      ]
    },
    {
      "cell_type": "markdown",
      "source": [
        "- numbers has indices: 0, 1, 2 (for 3 elements)\n",
        "- numbers[3] = 100 tries to assign a value to an index that doesn't exist yet\n",
        "- you can't assign to an index outside the current length of the list\n",
        "<br>\n",
        "<br>\n",
        "- Python allows slicing beyond the list length without error\n",
        "- numbers[:10] means \"get elements from index 0 to 9\"\n",
        "- Python will just stop at the end of the list if it runs out of elements"
      ],
      "metadata": {
        "id": "NAlf2_Euhui-"
      }
    },
    {
      "cell_type": "code",
      "execution_count": 11,
      "metadata": {
        "colab": {
          "base_uri": "https://localhost:8080/"
        },
        "id": "yxh19BTBZ5fJ",
        "outputId": "34e660ba-fec8-4b06-e175-ab26894bd04c"
      },
      "outputs": [
        {
          "output_type": "stream",
          "name": "stdout",
          "text": [
            "[2, 3]\n"
          ]
        }
      ],
      "source": [
        "numbers = [1,2,3]\n",
        "# print (numbers[3])\n",
        "\n",
        "print (numbers[1:10])"
      ]
    },
    {
      "cell_type": "markdown",
      "metadata": {
        "id": "kWNHGbwvZ5fK"
      },
      "source": [
        "#### <p style=\"font-family: Arial; font-size:1.4em; background-color: yellow; color:black;\"> Problem #3.2 </p>"
      ]
    },
    {
      "cell_type": "markdown",
      "metadata": {
        "id": "xlcqLNJ0Z5fK"
      },
      "source": [
        "## [2] Handling the index error situation with the try-except statement"
      ]
    },
    {
      "cell_type": "markdown",
      "metadata": {
        "id": "mZy9S1-tZ5fL"
      },
      "source": [
        "### Understanding the try-except statement\n",
        "\n",
        "``` Basic Syntax of the try-except statement\n",
        "try:\n",
        "    # Code block where exception might occur\n",
        "    # Your code here\n",
        "except ExceptionType as e:\n",
        "    # Code block to execute if an exception occurs\n",
        "    # Your code here\n",
        "else:\n",
        "    # Code block to execute if no exception occurs\n",
        "    # Your code here\n",
        "```\n",
        "\n"
      ]
    },
    {
      "cell_type": "markdown",
      "metadata": {
        "id": "L-jVhoHjZ5fL"
      },
      "source": [
        "#### Example 1"
      ]
    },
    {
      "cell_type": "code",
      "execution_count": 12,
      "metadata": {
        "colab": {
          "base_uri": "https://localhost:8080/"
        },
        "id": "kNIWBOf0Z5fL",
        "outputId": "9f2c3ab3-7977-4cad-d4a3-5d3c5eacc0e8"
      },
      "outputs": [
        {
          "output_type": "stream",
          "name": "stdout",
          "text": [
            "list index out of range\n"
          ]
        }
      ],
      "source": [
        "#Example\n",
        "numbers = [1,2,3]\n",
        "try:\n",
        "    print (numbers[3])\n",
        "except Exception as e:\n",
        "    print (e)\n"
      ]
    },
    {
      "cell_type": "markdown",
      "metadata": {
        "id": "zylYQ8WoZ5fL"
      },
      "source": [
        "#### Example 2"
      ]
    },
    {
      "cell_type": "code",
      "execution_count": 13,
      "metadata": {
        "colab": {
          "base_uri": "https://localhost:8080/"
        },
        "id": "v-PpEG9PZ5fM",
        "outputId": "70b2e659-a3ec-4e76-ab80-a0295825b620"
      },
      "outputs": [
        {
          "output_type": "stream",
          "name": "stdout",
          "text": [
            "IndexError: list index out of range\n"
          ]
        }
      ],
      "source": [
        "# Example 2\n",
        "numbers = [1,2,3]\n",
        "try:\n",
        "    print (numbers[10])\n",
        "except IndexError:\n",
        "    print ('IndexError: list index out of range')\n",
        "else:\n",
        "    print ('No error')\n",
        "\n",
        "\n"
      ]
    },
    {
      "cell_type": "markdown",
      "metadata": {
        "id": "Z2Lx5FLaZ5fM"
      },
      "source": [
        "## Main Adavatage of the try-except statement\n",
        "\n",
        "#### Die or Alive\n",
        "\n",
        "- In error situation, the program is not terminated.\n",
        "- The program can continue to run.\n",
        "\n",
        "\n",
        "\n"
      ]
    },
    {
      "cell_type": "markdown",
      "metadata": {
        "id": "7-WwBw_CZ5fM"
      },
      "source": [
        "## Error Keywords\n",
        "[Python Official Document for Errores and exception](https://docs.python.org/3/tutorial/errors.html)\n",
        "```\n",
        "Types of Exceptions\n",
        "Python has several built-in exception types. Some common ones include:\n",
        "- SyntaxError: Raised when there's a syntax error in the code.\n",
        "- NameError: Raised when a variable is not found in the local or global scope.\n",
        "- TypeError: Raised when an operation is performed on an inappropriate type.\n",
        "- ValueError: Raised when a function receives an argument of the correct type but an inappropriate value.\n",
        "- ZeroDivisionError: Raised when division or modulo by zero is performed.\n",
        "```\n",
        "\n"
      ]
    },
    {
      "cell_type": "markdown",
      "metadata": {
        "id": "xBFMDxQgZ5fM"
      },
      "source": [
        "#### <p style=\"font-family: Arial; font-size:1.4em; background-color: yellow; color:black;\"> Problem #3.3 </p>"
      ]
    },
    {
      "cell_type": "markdown",
      "metadata": {
        "id": "emPqulY8Z5fM"
      },
      "source": [
        "### Make the code segment to handle the index error situation with the try-except statement\n",
        "- There is 100 elements in the list numbers\n",
        "- A user will pick an index of the element in the list\n",
        "- Your program will print out the element in the list at the picked index\n",
        "- If the index is out of range, the program will print out the error message \"IndexError: list index out of range\". Use the try-except statement to handle the error.\n",
        "- If the index is valid, the program will print out the element in the list at the picked index\n",
        "\n"
      ]
    },
    {
      "cell_type": "code",
      "execution_count": 14,
      "metadata": {
        "colab": {
          "base_uri": "https://localhost:8080/"
        },
        "id": "bdC4dBisZ5fN",
        "outputId": "2ba249af-7ed8-46d5-ac92-9b98835d810c"
      },
      "outputs": [
        {
          "output_type": "stream",
          "name": "stdout",
          "text": [
            "[9, 27, 92, 9, 6, 62, 75, 7, 38, 31, 50, 30, 67, 50, 36, 45, 50, 94, 43, 24, 62, 27, 23, 78, 5, 4, 79, 5, 1, 35, 17, 27, 92, 4, 8, 67, 58, 16, 2, 92, 27, 89, 30, 46, 8, 7, 23, 47, 14, 18, 78, 63, 50, 28, 42, 52, 19, 95, 4, 98, 28, 23, 9, 71, 94, 69, 2, 12, 58, 91, 13, 31, 24, 88, 89, 16, 37, 98, 65, 84, 60, 17, 51, 66, 46, 88, 86, 91, 40, 79, 10, 36, 40, 56, 68, 13, 38, 44, 15, 9]\n",
            "Enter an index (0-99): 99\n",
            "The element at index 99 is: 9\n"
          ]
        }
      ],
      "source": [
        "import random\n",
        "\n",
        "numbers = [random.randint(1,100) for _ in range(100)]\n",
        "print (numbers)\n",
        "#****************************************************\n",
        "try:\n",
        "  index = int(input(\"Enter an index (0-99): \"))\n",
        "  print(f\"The element at index {index} is: {numbers[index]}\")\n",
        "except IndexError:\n",
        "  print(\"IndexError: list index out of range\")\n",
        "except ValueError:\n",
        "  print(\"ValueError: please enter a valid integer\")\n",
        "#****************************************************/"
      ]
    },
    {
      "cell_type": "markdown",
      "metadata": {
        "id": "Kbto5lWdZ5fN"
      },
      "source": [
        "<mark> Save your file by pressing \"Ctrl+S\" or \"git commit -m \"your message\"\" </mark>"
      ]
    },
    {
      "cell_type": "markdown",
      "metadata": {
        "id": "mBAzvsLbZ5fN"
      },
      "source": [
        "***\n",
        "\n",
        "## <p style=\"background-color: grey; color: white \"> ◼️  List </p>\n",
        "# <p style=\"font-family: Arial; font-size:1.4em;color:red;\"> 4. List of List\n",
        "\n"
      ]
    },
    {
      "cell_type": "markdown",
      "metadata": {
        "id": "iG9TZ896Z5fN"
      },
      "source": [
        "#### <p style=\"font-family: Arial; font-size:1.4em; background-color: yellow; color:black;\"> Problem #4.1 </p>"
      ]
    },
    {
      "cell_type": "markdown",
      "metadata": {
        "id": "qgZoLkJ-Z5fN"
      },
      "source": [
        "## There are students records in the list \"students\".\n",
        "```\n",
        "- The Student record consists of the student name, age, and the list of scores in Math, Science, and English\n",
        "- Make a function to print out the student record in the following format\n",
        "-- No return value. Use the same list of students. Do not create a new list.\n",
        "- Name: <student name> - Age: <student age> - Scores: <list of scores> - Total Score: <total score> - Average Score: <average score>\n",
        "- The function will take the list of students as an input and print out the student record for each student in the list\n",
        "\n",
        "students = [\n",
        "    [\"John\", 20, [80, 85, 90]],\n",
        "    [\"Jane\", 21, [82, 86, 89]],\n",
        "    [\"Doe\", 22, [84, 88, 92]]\n",
        "]\n",
        "```"
      ]
    },
    {
      "cell_type": "code",
      "execution_count": 16,
      "metadata": {
        "colab": {
          "base_uri": "https://localhost:8080/"
        },
        "id": "oItcJZCTZ5fO",
        "outputId": "98bf73a8-5bd3-4fdd-9809-98584ddce544"
      },
      "outputs": [
        {
          "output_type": "stream",
          "name": "stdout",
          "text": [
            "**********************************************************************\n",
            "Name: John - Age: 20 - Scores: [80, 85, 90] - Total Score: 255 - Average Score: 85.0\n",
            "Name: Jane - Age: 21 - Scores: [82, 86, 89] - Total Score: 257 - Average Score: 85.66666666666667\n",
            "Name: Doe - Age: 22 - Scores: [84, 88, 92] - Total Score: 264 - Average Score: 88.0\n",
            "Name: Kim - Age: 23 - Scores: [85, 89, 91] - Total Score: 265 - Average Score: 88.33333333333333\n",
            "Name: Lee - Age: 24 - Scores: [86, 90, 93] - Total Score: 269 - Average Score: 89.66666666666667\n",
            "Name: Alex - Age: 25 - Scores: [87, 91, 94] - Total Score: 272 - Average Score: 90.66666666666667\n",
            "Name: Kyle - Age: 26 - Scores: [88, 92, 95] - Total Score: 275 - Average Score: 91.66666666666667\n",
            "Name: Jenny - Age: 27 - Scores: [89, 93, 96] - Total Score: 278 - Average Score: 92.66666666666667\n",
            "Name: Jake - Age: 28 - Scores: [90, 94, 97] - Total Score: 281 - Average Score: 93.66666666666667\n",
            "Name: Jessica - Age: 29 - Scores: [91, 95, 98] - Total Score: 284 - Average Score: 94.66666666666667\n",
            "Name: Josh - Age: 30 - Scores: [92, 96, 99] - Total Score: 287 - Average Score: 95.66666666666667\n",
            "Name: Jill - Age: 31 - Scores: [93, 97, 100] - Total Score: 290 - Average Score: 96.66666666666667\n"
          ]
        }
      ],
      "source": [
        "def print_student_record(students):\n",
        "    ###################################################\n",
        "    # code here\n",
        "    # Name: John - Age: 20 - Scores: [80, 85, 90] - Total Score: 255 - Average Score: 85.0\n",
        "    # Name: Jane - Age: 21 - Scores: [82, 86, 89] - Total Score: 257 - Average Score: 85.67\n",
        "    # ...\n",
        "    ###################################################\n",
        "    print (\"**********************************************************************\")\n",
        "    for student in students:\n",
        "      name = student[0]\n",
        "      age = student[1]\n",
        "      scores = student[2]\n",
        "      total = sum(scores)\n",
        "      average = total / len(scores)\n",
        "      print(f\"Name: {student[0]} - Age: {student[1]} - Scores: {student[2]} - Total Score: {sum(student[2])} - Average Score: {sum(student[2])/len(student[2])}\")\n",
        "\n",
        "\n",
        "\n",
        "students = [\n",
        "    [\"John\", 20, [80, 85, 90]],\n",
        "    [\"Jane\", 21, [82, 86, 89]],\n",
        "    [\"Doe\", 22, [84, 88, 92]],\n",
        "    ['Kim', 23, [85, 89, 91]],\n",
        "    ['Lee', 24, [86, 90, 93]],\n",
        "    ['Alex', 25, [87, 91, 94]],\n",
        "    ['Kyle', 26, [88, 92, 95]],\n",
        "    ['Jenny', 27, [89, 93, 96]],\n",
        "    ['Jake', 28, [90, 94, 97]],\n",
        "    ['Jessica', 29, [91, 95, 98]],\n",
        "    ['Josh', 30, [92, 96, 99]],\n",
        "    ['Jill', 31, [93, 97, 100]] ]\n",
        "\n",
        "print_student_record(students)\n",
        "\n",
        "\n"
      ]
    },
    {
      "cell_type": "markdown",
      "metadata": {
        "id": "HAucSKjjZ5fO"
      },
      "source": [
        "## Make the function \"sort_students\" to sort the students by the the following criteria\n",
        "\n",
        "- Key = 1: Sort the students by the total score\n",
        "- Key = 2: Sort the students by the age\n",
        "- Key = 3: Sort the students by the name\n",
        "- Ascending = True: Sort in ascending order\n",
        "- Ascending = False: Sort in descending order\n",
        "```\n",
        "def sort_students(students, key, ascending):\n",
        "    ###################################################\n",
        "    # code here\n",
        "    ###################################################\n",
        "\n",
        "```\n"
      ]
    },
    {
      "cell_type": "code",
      "execution_count": 17,
      "metadata": {
        "colab": {
          "base_uri": "https://localhost:8080/"
        },
        "id": "tg76L_yOZ5fO",
        "outputId": "07b23f41-6d18-4979-d33b-906db8c93a1e"
      },
      "outputs": [
        {
          "output_type": "stream",
          "name": "stdout",
          "text": [
            "**********************************************************************\n",
            "Name: John - Age: 20 - Scores: [80, 85, 90] - Total Score: 255 - Average Score: 85.0\n",
            "Name: Jane - Age: 21 - Scores: [82, 86, 89] - Total Score: 257 - Average Score: 85.66666666666667\n",
            "Name: Doe - Age: 22 - Scores: [84, 88, 92] - Total Score: 264 - Average Score: 88.0\n",
            "Name: Kim - Age: 23 - Scores: [85, 89, 91] - Total Score: 265 - Average Score: 88.33333333333333\n",
            "Name: Lee - Age: 24 - Scores: [86, 90, 93] - Total Score: 269 - Average Score: 89.66666666666667\n",
            "Name: Alex - Age: 25 - Scores: [87, 91, 94] - Total Score: 272 - Average Score: 90.66666666666667\n",
            "Name: Kyle - Age: 26 - Scores: [88, 92, 95] - Total Score: 275 - Average Score: 91.66666666666667\n",
            "Name: Jenny - Age: 27 - Scores: [89, 93, 96] - Total Score: 278 - Average Score: 92.66666666666667\n",
            "Name: Jake - Age: 28 - Scores: [90, 94, 97] - Total Score: 281 - Average Score: 93.66666666666667\n",
            "Name: Jessica - Age: 29 - Scores: [91, 95, 98] - Total Score: 284 - Average Score: 94.66666666666667\n",
            "Name: Josh - Age: 30 - Scores: [92, 96, 99] - Total Score: 287 - Average Score: 95.66666666666667\n",
            "Name: Jill - Age: 31 - Scores: [93, 97, 100] - Total Score: 290 - Average Score: 96.66666666666667\n",
            "**********************************************************************\n",
            "Name: John - Age: 20 - Scores: [80, 85, 90] - Total Score: 255 - Average Score: 85.0\n",
            "Name: Jane - Age: 21 - Scores: [82, 86, 89] - Total Score: 257 - Average Score: 85.66666666666667\n",
            "Name: Doe - Age: 22 - Scores: [84, 88, 92] - Total Score: 264 - Average Score: 88.0\n",
            "Name: Kim - Age: 23 - Scores: [85, 89, 91] - Total Score: 265 - Average Score: 88.33333333333333\n",
            "Name: Lee - Age: 24 - Scores: [86, 90, 93] - Total Score: 269 - Average Score: 89.66666666666667\n",
            "Name: Alex - Age: 25 - Scores: [87, 91, 94] - Total Score: 272 - Average Score: 90.66666666666667\n",
            "Name: Kyle - Age: 26 - Scores: [88, 92, 95] - Total Score: 275 - Average Score: 91.66666666666667\n",
            "Name: Jenny - Age: 27 - Scores: [89, 93, 96] - Total Score: 278 - Average Score: 92.66666666666667\n",
            "Name: Jake - Age: 28 - Scores: [90, 94, 97] - Total Score: 281 - Average Score: 93.66666666666667\n",
            "Name: Jessica - Age: 29 - Scores: [91, 95, 98] - Total Score: 284 - Average Score: 94.66666666666667\n",
            "Name: Josh - Age: 30 - Scores: [92, 96, 99] - Total Score: 287 - Average Score: 95.66666666666667\n",
            "Name: Jill - Age: 31 - Scores: [93, 97, 100] - Total Score: 290 - Average Score: 96.66666666666667\n",
            "**********************************************************************\n",
            "Name: Jill - Age: 31 - Scores: [93, 97, 100] - Total Score: 290 - Average Score: 96.66666666666667\n",
            "Name: Josh - Age: 30 - Scores: [92, 96, 99] - Total Score: 287 - Average Score: 95.66666666666667\n",
            "Name: Jessica - Age: 29 - Scores: [91, 95, 98] - Total Score: 284 - Average Score: 94.66666666666667\n",
            "Name: Jake - Age: 28 - Scores: [90, 94, 97] - Total Score: 281 - Average Score: 93.66666666666667\n",
            "Name: Jenny - Age: 27 - Scores: [89, 93, 96] - Total Score: 278 - Average Score: 92.66666666666667\n",
            "Name: Kyle - Age: 26 - Scores: [88, 92, 95] - Total Score: 275 - Average Score: 91.66666666666667\n",
            "Name: Alex - Age: 25 - Scores: [87, 91, 94] - Total Score: 272 - Average Score: 90.66666666666667\n",
            "Name: Lee - Age: 24 - Scores: [86, 90, 93] - Total Score: 269 - Average Score: 89.66666666666667\n",
            "Name: Kim - Age: 23 - Scores: [85, 89, 91] - Total Score: 265 - Average Score: 88.33333333333333\n",
            "Name: Doe - Age: 22 - Scores: [84, 88, 92] - Total Score: 264 - Average Score: 88.0\n",
            "Name: Jane - Age: 21 - Scores: [82, 86, 89] - Total Score: 257 - Average Score: 85.66666666666667\n",
            "Name: John - Age: 20 - Scores: [80, 85, 90] - Total Score: 255 - Average Score: 85.0\n",
            "**********************************************************************\n",
            "Name: Alex - Age: 25 - Scores: [87, 91, 94] - Total Score: 272 - Average Score: 90.66666666666667\n",
            "Name: Doe - Age: 22 - Scores: [84, 88, 92] - Total Score: 264 - Average Score: 88.0\n",
            "Name: Jake - Age: 28 - Scores: [90, 94, 97] - Total Score: 281 - Average Score: 93.66666666666667\n",
            "Name: Jane - Age: 21 - Scores: [82, 86, 89] - Total Score: 257 - Average Score: 85.66666666666667\n",
            "Name: Jenny - Age: 27 - Scores: [89, 93, 96] - Total Score: 278 - Average Score: 92.66666666666667\n",
            "Name: Jessica - Age: 29 - Scores: [91, 95, 98] - Total Score: 284 - Average Score: 94.66666666666667\n",
            "Name: Jill - Age: 31 - Scores: [93, 97, 100] - Total Score: 290 - Average Score: 96.66666666666667\n",
            "Name: John - Age: 20 - Scores: [80, 85, 90] - Total Score: 255 - Average Score: 85.0\n",
            "Name: Josh - Age: 30 - Scores: [92, 96, 99] - Total Score: 287 - Average Score: 95.66666666666667\n",
            "Name: Kim - Age: 23 - Scores: [85, 89, 91] - Total Score: 265 - Average Score: 88.33333333333333\n",
            "Name: Kyle - Age: 26 - Scores: [88, 92, 95] - Total Score: 275 - Average Score: 91.66666666666667\n",
            "Name: Lee - Age: 24 - Scores: [86, 90, 93] - Total Score: 269 - Average Score: 89.66666666666667\n"
          ]
        }
      ],
      "source": [
        "def sort_students(students, key, ascending):\n",
        "    ###################################################\n",
        "    if key == 1:\n",
        "      students.sort(key=lambda student: sum(student[2]), reverse=not ascending)\n",
        "    elif key == 2:\n",
        "      students.sort(key=lambda student: student[1], reverse=not ascending)\n",
        "    elif key == 3:\n",
        "      students.sort(key=lambda student: student[0], reverse=not ascending)\n",
        "    ###################################################\n",
        "\n",
        "\n",
        "\n",
        "print_student_record(students)\n",
        "sort_students(students, 1, True)\n",
        "print_student_record(students)\n",
        "sort_students(students, 2, False)\n",
        "print_student_record(students)\n",
        "sort_students(students, 3, True)\n",
        "print_student_record(students)\n"
      ]
    },
    {
      "cell_type": "markdown",
      "metadata": {
        "id": "hAte9G_EZ5fO"
      },
      "source": [
        "#### <p style=\"font-family: Arial; font-size:1.4em; background-color: yellow; color:black;\"> Problem #4.2 </p>"
      ]
    },
    {
      "cell_type": "markdown",
      "metadata": {
        "id": "E5IjE3JIZ5fO"
      },
      "source": [
        "## Make the function \"reconstruct_list(rows, cols)\" that reconstructs the list of integers in the following way\n",
        "#### Return value: new list of list of integers\n",
        "\n",
        "- numbers = [ 1, 2, 3, 4, 5, 6, 7, 8, 9, 10, 11, 12, 13, 14, 15, 16, 17, 18, 19, 20, 21, 22, 23, 24]\n",
        "- reconstruct_list(rows, cols) will reform the list of list of integers with the number of rows and columns\n",
        "- For example, if rows = 4 and cols = 6, the function will return the following list of list of integers\n",
        "- numbers = [ [1, 2, 3, 4, 5, 6], [7, 8, 9, 10, 11, 12], [13, 14, 15, 16, 17, 18], [19, 20, 21, 22, 23, 24] ]\n",
        "- For example if rows = 2 and cols = 12,\n",
        "- numbers = [ [1, 2, 3, 4, 5, 6, 7, 8, 9, 10, 11, 12], [13, 14, 15, 16, 17, 18, 19, 20, 21, 22, 23, 24] ]\n",
        "- For example if rows = 8 and cols = 3,\n",
        "- numbers = [ [1, 2, 3], [4, 5, 6], [7, 8, 9], [10, 11, 12], [13, 14, 15], [16, 17, 18], [19, 20, 21], [22, 23, 24] ]\n",
        "```\n",
        "def reconstruct_list(numbers, rows, cols):\n",
        "    ###################################################\n",
        "    # code here\n",
        "    ###################################################\n",
        "\n",
        "```\n"
      ]
    },
    {
      "cell_type": "code",
      "execution_count": 18,
      "metadata": {
        "colab": {
          "base_uri": "https://localhost:8080/"
        },
        "id": "hVm8teDLZ5fO",
        "outputId": "43ef020a-95f1-465e-d61d-b2b4e2004abb"
      },
      "outputs": [
        {
          "output_type": "stream",
          "name": "stdout",
          "text": [
            "[[1, 2, 3, 4, 5, 6], [7, 8, 9, 10, 11, 12], [13, 14, 15, 16, 17, 18], [19, 20, 21, 22, 23, 24]]\n"
          ]
        }
      ],
      "source": [
        "def reconstruct_list(numbers, rows, cols):\n",
        "    ###################################################\n",
        "    new_list = []\n",
        "    for i in range(rows):\n",
        "      start = i * cols\n",
        "      end = start + cols\n",
        "      new_list.append(numbers[start:end])\n",
        "    return new_list\n",
        "    ###################################################\n",
        "\n",
        "numbers = [ 1, 2, 3, 4, 5, 6, 7, 8, 9, 10, 11, 12, 13, 14, 15, 16, 17, 18, 19, 20, 21, 22, 23, 24]\n",
        "new_numbers = reconstruct_list(numbers, 4, 6)\n",
        "print (new_numbers)"
      ]
    },
    {
      "cell_type": "markdown",
      "metadata": {
        "id": "7GqekMsdZ5fP"
      },
      "source": [
        "<mark> Save your file by pressing \"Ctrl+S\" or \"git commit -m \"your message\"\" </mark>"
      ]
    },
    {
      "cell_type": "markdown",
      "metadata": {
        "id": "AKUN0GOzZ5fP"
      },
      "source": [
        "***\n",
        "\n",
        "## <p style=\"background-color: grey; color: white \"> ◼️  List </p>\n",
        "# <p style=\"font-family: Arial; font-size:1.4em;color:red;\"> 5. any() and all()\n",
        "\n"
      ]
    },
    {
      "cell_type": "markdown",
      "metadata": {
        "id": "HZlZfgpuZ5fP"
      },
      "source": [
        "Use the any() and all() functions to check the elements in the list\n",
        "\n",
        "#### <p style=\"font-family: Arial; font-size:1.4em; background-color: yellow; color:black;\"> Problem #5.1 </p>\n",
        "\n",
        "#### Run the following code segment and figure out the output of the code segment"
      ]
    },
    {
      "cell_type": "code",
      "execution_count": null,
      "metadata": {
        "id": "cbrnuLDGZ5fP"
      },
      "outputs": [],
      "source": [
        "numbers = [1, 2, 3, 4, 5, 6, 7, 8, 9, 10]\n",
        "\n",
        "any( x % 2 == 0 for x in numbers)"
      ]
    },
    {
      "cell_type": "code",
      "execution_count": null,
      "metadata": {
        "id": "DRVD-ig3Z5fP"
      },
      "outputs": [],
      "source": [
        "all ( x > 0 for x in numbers)"
      ]
    },
    {
      "cell_type": "markdown",
      "metadata": {
        "id": "l3TSMvSWZ5fP"
      },
      "source": [
        "Use the any() and all() functions to check the elements in the list\n",
        "\n",
        "#### <p style=\"font-family: Arial; font-size:1.4em; background-color: yellow; color:black;\"> Problem #5.2</p>\n",
        "\n",
        "#### Make the function isSubset(numbers1, numbers2) to check if the numbers1 is a subset of numbers2\n",
        "- Return True if the numbers1 is a subset of numbers2\n",
        "- Return False otherwise\n",
        "- Use the any() and all() functions to check the elements in the list\n"
      ]
    },
    {
      "cell_type": "code",
      "execution_count": null,
      "metadata": {
        "id": "tp8H_1A0Z5fQ"
      },
      "outputs": [],
      "source": [
        "def isSubset(numbers1, numbers2):\n",
        "    ###################################################\n",
        "    # code here\n",
        "    ###################################################\n",
        "\n",
        "\n",
        "numbers1 = [1, 2, 3]\n",
        "numbers2 = [1, 2, 3, 4, 5, 6, 7, 8, 9, 10]\n",
        "print (isSubset(numbers1, numbers2))\n",
        "\n"
      ]
    },
    {
      "cell_type": "markdown",
      "metadata": {
        "id": "YpOpSYaRZ5fQ"
      },
      "source": [
        "<mark> Save your file by pressing \"Ctrl+S\" or \"git commit -m \"your message\"\" </mark>"
      ]
    }
  ],
  "metadata": {
    "kernelspec": {
      "display_name": "Python 3.9.13 ('base')",
      "language": "python",
      "name": "python3"
    },
    "language_info": {
      "codemirror_mode": {
        "name": "ipython",
        "version": 3
      },
      "file_extension": ".py",
      "mimetype": "text/x-python",
      "name": "python",
      "nbconvert_exporter": "python",
      "pygments_lexer": "ipython3",
      "version": "3.9.17"
    },
    "orig_nbformat": 4,
    "vscode": {
      "interpreter": {
        "hash": "32cd87c0c55905266dc8232ebf1148f668af0d9324249c125246585210a29cd6"
      }
    },
    "colab": {
      "provenance": [],
      "include_colab_link": true
    }
  },
  "nbformat": 4,
  "nbformat_minor": 0
}